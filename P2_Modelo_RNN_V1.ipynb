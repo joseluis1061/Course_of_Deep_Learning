{
 "cells": [
  {
   "cell_type": "markdown",
   "metadata": {},
   "source": [
    "# Modelo RNN  \n",
    "Este es el primer modelo de red neuronal implementado. Con el se busca establecer las bases de arquitecturas a implementar en modelos mas complejos que involucren las redes neuronales."
   ]
  },
  {
   "cell_type": "code",
   "execution_count": 3,
   "metadata": {},
   "outputs": [
    {
     "name": "stdout",
     "output_type": "stream",
     "text": [
      "Requirement already satisfied: tensorflow in c:\\users\\josel\\appdata\\roaming\\python\\python38\\site-packages (2.3.0)\n",
      "Collecting absl-py>=0.7.0\n",
      "  Downloading absl_py-0.10.0-py3-none-any.whl (127 kB)\n",
      "Collecting grpcio>=1.8.6\n",
      "  Using cached grpcio-1.31.0-cp38-cp38-win_amd64.whl (2.6 MB)"
     ]
    },
    {
     "name": "stderr",
     "output_type": "stream",
     "text": [
      "ERROR: Could not install packages due to an EnvironmentError: [WinError 5] Acceso denegado: 'C:\\\\Users\\\\josel\\\\anaconda3\\\\Lib\\\\site-packages\\\\~cipy\\\\cluster\\\\_hierarchy.cp38-win_amd64.pyd'\n",
      "Consider using the `--user` option or check the permissions.\n",
      "\n"
     ]
    },
    {
     "name": "stdout",
     "output_type": "stream",
     "text": [
      "\n",
      "Collecting opt-einsum>=2.3.2\n",
      "  Using cached opt_einsum-3.3.0-py3-none-any.whl (65 kB)\n",
      "Requirement already satisfied: astunparse==1.6.3 in c:\\users\\josel\\appdata\\roaming\\python\\python38\\site-packages (from tensorflow) (1.6.3)\n",
      "Processing c:\\users\\josel\\appdata\\local\\pip\\cache\\wheels\\a0\\16\\9c\\5473df82468f958445479c59e784896fa24f4a5fc024b0f501\\termcolor-1.1.0-py3-none-any.whl\n",
      "Requirement already satisfied: wrapt>=1.11.1 in c:\\users\\josel\\appdata\\roaming\\python\\python38\\site-packages (from tensorflow) (1.11.2)\n",
      "Collecting tensorflow-estimator<2.4.0,>=2.3.0\n",
      "  Using cached tensorflow_estimator-2.3.0-py2.py3-none-any.whl (459 kB)\n",
      "Collecting google-pasta>=0.1.8\n",
      "  Using cached google_pasta-0.2.0-py3-none-any.whl (57 kB)\n",
      "Requirement already satisfied: six>=1.12.0 in c:\\users\\josel\\anaconda3\\lib\\site-packages (from tensorflow) (1.15.0)\n",
      "Collecting keras-preprocessing<1.2,>=1.1.1\n",
      "  Using cached Keras_Preprocessing-1.1.2-py2.py3-none-any.whl (42 kB)\n",
      "Collecting protobuf>=3.9.2\n",
      "  Using cached protobuf-3.13.0-py2.py3-none-any.whl (438 kB)\n",
      "Requirement already satisfied: wheel>=0.26 in c:\\users\\josel\\anaconda3\\lib\\site-packages (from tensorflow) (0.34.2)\n",
      "Collecting tensorboard<3,>=2.3.0\n",
      "  Using cached tensorboard-2.3.0-py3-none-any.whl (6.8 MB)\n",
      "Requirement already satisfied: gast==0.3.3 in c:\\users\\josel\\appdata\\roaming\\python\\python38\\site-packages (from tensorflow) (0.3.3)\n",
      "Requirement already satisfied: h5py<2.11.0,>=2.10.0 in c:\\users\\josel\\anaconda3\\lib\\site-packages (from tensorflow) (2.10.0)\n",
      "Requirement already satisfied: numpy<1.19.0,>=1.16.0 in c:\\users\\josel\\anaconda3\\lib\\site-packages (from tensorflow) (1.18.5)\n",
      "Collecting scipy==1.4.1\n",
      "  Using cached scipy-1.4.1-cp38-cp38-win_amd64.whl (31.0 MB)\n",
      "Requirement already satisfied: setuptools in c:\\users\\josel\\anaconda3\\lib\\site-packages (from protobuf>=3.9.2->tensorflow) (49.2.0.post20200714)\n",
      "Collecting google-auth-oauthlib<0.5,>=0.4.1\n",
      "  Using cached google_auth_oauthlib-0.4.1-py2.py3-none-any.whl (18 kB)\n",
      "Requirement already satisfied: werkzeug>=0.11.15 in c:\\users\\josel\\anaconda3\\lib\\site-packages (from tensorboard<3,>=2.3.0->tensorflow) (1.0.1)\n",
      "Collecting google-auth<2,>=1.6.3\n",
      "  Downloading google_auth-1.21.1-py2.py3-none-any.whl (93 kB)\n",
      "Collecting tensorboard-plugin-wit>=1.6.0\n",
      "  Using cached tensorboard_plugin_wit-1.7.0-py3-none-any.whl (779 kB)\n",
      "Requirement already satisfied: requests<3,>=2.21.0 in c:\\users\\josel\\anaconda3\\lib\\site-packages (from tensorboard<3,>=2.3.0->tensorflow) (2.24.0)\n",
      "Collecting markdown>=2.6.8\n",
      "  Using cached Markdown-3.2.2-py3-none-any.whl (88 kB)\n",
      "Collecting requests-oauthlib>=0.7.0\n",
      "  Using cached requests_oauthlib-1.3.0-py2.py3-none-any.whl (23 kB)\n",
      "Collecting rsa<5,>=3.1.4; python_version >= \"3.5\"\n",
      "  Using cached rsa-4.6-py3-none-any.whl (47 kB)\n",
      "Collecting cachetools<5.0,>=2.0.0\n",
      "  Using cached cachetools-4.1.1-py3-none-any.whl (10 kB)\n",
      "Collecting pyasn1-modules>=0.2.1\n",
      "  Using cached pyasn1_modules-0.2.8-py2.py3-none-any.whl (155 kB)\n",
      "Requirement already satisfied: idna<3,>=2.5 in c:\\users\\josel\\anaconda3\\lib\\site-packages (from requests<3,>=2.21.0->tensorboard<3,>=2.3.0->tensorflow) (2.10)\n",
      "Requirement already satisfied: urllib3!=1.25.0,!=1.25.1,<1.26,>=1.21.1 in c:\\users\\josel\\anaconda3\\lib\\site-packages (from requests<3,>=2.21.0->tensorboard<3,>=2.3.0->tensorflow) (1.25.9)\n",
      "Requirement already satisfied: certifi>=2017.4.17 in c:\\users\\josel\\anaconda3\\lib\\site-packages (from requests<3,>=2.21.0->tensorboard<3,>=2.3.0->tensorflow) (2020.6.20)\n",
      "Requirement already satisfied: chardet<4,>=3.0.2 in c:\\users\\josel\\anaconda3\\lib\\site-packages (from requests<3,>=2.21.0->tensorboard<3,>=2.3.0->tensorflow) (3.0.4)\n",
      "Collecting oauthlib>=3.0.0\n",
      "  Using cached oauthlib-3.1.0-py2.py3-none-any.whl (147 kB)\n",
      "Collecting pyasn1>=0.1.3\n",
      "  Using cached pyasn1-0.4.8-py2.py3-none-any.whl (77 kB)\n",
      "Installing collected packages: absl-py, grpcio, opt-einsum, termcolor, tensorflow-estimator, google-pasta, keras-preprocessing, protobuf, pyasn1, rsa, cachetools, pyasn1-modules, google-auth, oauthlib, requests-oauthlib, google-auth-oauthlib, tensorboard-plugin-wit, markdown, tensorboard, scipy\n",
      "  Attempting uninstall: scipy\n",
      "    Found existing installation: scipy 1.5.0\n",
      "    Uninstalling scipy-1.5.0:\n",
      "      Successfully uninstalled scipy-1.5.0\n",
      "Collecting theano\n",
      "  Downloading Theano-1.0.5.tar.gz (2.8 MB)\n",
      "Requirement already satisfied: numpy>=1.9.1 in c:\\users\\josel\\anaconda3\\lib\\site-packages (from theano) (1.18.5)\n",
      "Requirement already satisfied: scipy>=0.14 in c:\\users\\josel\\anaconda3\\lib\\site-packages (from theano) (1.4.1)\n",
      "Requirement already satisfied: six>=1.9.0 in c:\\users\\josel\\anaconda3\\lib\\site-packages (from theano) (1.15.0)\n",
      "Building wheels for collected packages: theano\n",
      "  Building wheel for theano (setup.py): started\n",
      "  Building wheel for theano (setup.py): finished with status 'done'\n",
      "  Created wheel for theano: filename=Theano-1.0.5-py3-none-any.whl size=2668111 sha256=688de02a7de678cb590b9e48382626f049a702b0c896c29cc418fc5c5a14681b\n",
      "  Stored in directory: c:\\users\\josel\\appdata\\local\\pip\\cache\\wheels\\84\\cb\\19\\235b5b10d89b4621f685112f8762681570a9fa14dc1ce904d9\n",
      "Successfully built theano\n",
      "Installing collected packages: theano\n",
      "Successfully installed theano-1.0.5\n",
      "Collecting keras\n",
      "  Using cached Keras-2.4.3-py2.py3-none-any.whl (36 kB)\n",
      "Requirement already satisfied: pyyaml in c:\\users\\josel\\anaconda3\\lib\\site-packages (from keras) (5.3.1)\n",
      "Requirement already satisfied: h5py in c:\\users\\josel\\anaconda3\\lib\\site-packages (from keras) (2.10.0)\n",
      "Requirement already satisfied: numpy>=1.9.1 in c:\\users\\josel\\anaconda3\\lib\\site-packages (from keras) (1.18.5)\n",
      "Requirement already satisfied: scipy>=0.14 in c:\\users\\josel\\anaconda3\\lib\\site-packages (from keras) (1.4.1)\n",
      "Requirement already satisfied: six in c:\\users\\josel\\anaconda3\\lib\\site-packages (from h5py->keras) (1.15.0)\n",
      "Installing collected packages: keras\n",
      "Successfully installed keras-2.4.3\n"
     ]
    }
   ],
   "source": [
    "!pip install tensorflow\n",
    "!pip install theano\n",
    "!pip install keras"
   ]
  },
  {
   "cell_type": "code",
   "execution_count": 5,
   "metadata": {},
   "outputs": [],
   "source": [
    "#Librerias\n",
    "import numpy as np\n",
    "import pandas as pd\n",
    "import matplotlib.pyplot as plt\n",
    "%matplotlib inline\n",
    "from IPython.display import display\n",
    "import datetime\n",
    "import time\n",
    "import math\n",
    "import warnings\n",
    "from pathlib import Path # includes glob\n",
    "#import glob             # Unix pathname pattern expansion, Ex. glob.glob('**/*.txt', recursive=True)\n",
    "import pickle\n",
    "warnings.filterwarnings(\"ignore\")\n",
    "# import altair as alt\n",
    "import os\n",
    "import seaborn\n",
    "from tensorflow import keras\n",
    "from tensorflow.keras import layers\n",
    "import numpy as np\n",
    "import keras.backend as K\n",
    "from keras.layers import Dense, Input\n",
    "from keras.models import Model"
   ]
  },
  {
   "cell_type": "markdown",
   "metadata": {},
   "source": [
    "## Lectura de datos"
   ]
  },
  {
   "cell_type": "code",
   "execution_count": 6,
   "metadata": {},
   "outputs": [],
   "source": [
    "new_directory = os.getcwd()"
   ]
  },
  {
   "cell_type": "code",
   "execution_count": 7,
   "metadata": {},
   "outputs": [],
   "source": [
    "data_casa_1 = pd.read_csv(new_directory + \"\\\\low_freq\\\\data_casas\\\\data_casa_1.csv\",sep=r' ',encoding='utf-8',header=0, index_col = 0)\n",
    "data_casa_2 = pd.read_csv(new_directory + \"\\\\low_freq\\\\data_casas\\\\data_casa_2.csv\",sep=r' ',encoding='utf-8',header=0, index_col = 0)\n",
    "data_casa_3 = pd.read_csv(new_directory + \"\\\\low_freq\\\\data_casas\\\\data_casa_3.csv\",sep=r' ',encoding='utf-8',header=0, index_col = 0)\n",
    "data_casa_4 = pd.read_csv(new_directory + \"\\\\low_freq\\\\data_casas\\\\data_casa_4.csv\",sep=r' ',encoding='utf-8',header=0, index_col = 0)\n",
    "data_casa_5 = pd.read_csv(new_directory + \"\\\\low_freq\\\\data_casas\\\\data_casa_5.csv\",sep=r' ',encoding='utf-8',header=0, index_col = 0)\n",
    "data_casa_6 = pd.read_csv(new_directory + \"\\\\low_freq\\\\data_casas\\\\data_casa_6.csv\",sep=r' ',encoding='utf-8',header=0, index_col = 0)"
   ]
  },
  {
   "cell_type": "code",
   "execution_count": 8,
   "metadata": {},
   "outputs": [
    {
     "data": {
      "text/plain": [
       "Index(['mains_1', 'mains_2', 'oven_3', 'oven_4', 'refrigerator_5',\n",
       "       'dishwaser_6', 'kitchen_outlets_7', 'kitchen_outlets_8', 'lighting_9',\n",
       "       'washer_dryer_10', 'microwave_11', 'bathroom_gfi_12',\n",
       "       'electric_heat_13', 'stove_14', 'kitchen_outlets_15',\n",
       "       'kitchen_outlets_16', 'lighting_17', 'lighting_18', 'washer_dryer_19',\n",
       "       'washer_dryer_20'],\n",
       "      dtype='object')"
      ]
     },
     "execution_count": 8,
     "metadata": {},
     "output_type": "execute_result"
    }
   ],
   "source": [
    "data_casa_1.columns"
   ]
  },
  {
   "cell_type": "markdown",
   "metadata": {},
   "source": [
    "## División de los datos  \n",
    "La división de los datos es necesaria para evitar over fitting o sobre entrenamiento del model. De está manera el sistema tendra capacidad de generalizar.  \n",
    "Usaremos las casa 1 como base de datos de entrenamiento, debido a que cuenta con buena variabilidad de dispositivos y el mayor tamaño de datos.  \n",
    "Para este proceso en futuras bases de datos, tenga en cuenta, que es necesario normalizar los datos cuando las variables son de diferente naturaleza o rango de valor. Esto ayuda a que el proceso de aprendizaje sea más acertado, disminuya el tiempo de procesamiento y mejoren los resultados. En este caso no es necesario.  \n",
    "La división que se ha tomado es de 67% para el entrenamiento y 33% para test. Este valor es valido debido a que tenemos una buena cantidad de datos. "
   ]
  },
  {
   "cell_type": "code",
   "execution_count": 9,
   "metadata": {},
   "outputs": [],
   "source": [
    "#data_casa_1.shape"
   ]
  },
  {
   "cell_type": "code",
   "execution_count": 10,
   "metadata": {},
   "outputs": [],
   "source": [
    "#Puntos de corte\n",
    "#train_length = int(data_casa_1.shape[0]*0.67) #Entrenamiento 67%\n",
    "#test_length = int(data_casa_1.shape[0] - train_length) #Prueba 33%\n",
    "#total_length = train_length + test_length"
   ]
  },
  {
   "cell_type": "code",
   "execution_count": 8,
   "metadata": {},
   "outputs": [
    {
     "name": "stdout",
     "output_type": "stream",
     "text": [
      "Train (272521, 20)\n",
      "Test (134227, 20)\n"
     ]
    }
   ],
   "source": [
    "#Train / Test\n",
    "#train = data_casa_1[0: train_length]\n",
    "#test = data_casa_1[train_length: total_length]\n",
    "#print(f'Train {train.shape}')\n",
    "#print(f'Test {test.shape}')"
   ]
  },
  {
   "cell_type": "markdown",
   "metadata": {},
   "source": [
    "## Creando el modelo RNN\n",
    "En esta sección se crearán las arquitecturas RNN para evaluar su rendimiento. Este primer modelo se tomara como base para la fabricación de redes LSTM y GRU.  \n",
    "El primer modelo sirve para evaluar si el modelo es capaz de predecir cuando se enciende el refrigerador usando como entrada del modelo las mediciones en la red general mains_1 y mains_2.\n",
    "El modelo cuenta con un dropout del 50%, este proceso desactiva temporalmente el 50% de capaz al azar. Este proceso evita la codependencia de las neuronas al ajustar su peso, mejorando la generalización."
   ]
  },
  {
   "cell_type": "code",
   "execution_count": 5,
   "metadata": {},
   "outputs": [],
   "source": [
    "from keras.layers.core import Dense, Activation, Dropout\n",
    "from keras.layers.recurrent import LSTM\n",
    "from keras.models import Sequential\n",
    "from keras.callbacks import ModelCheckpoint\n",
    "from keras.models import load_model\n",
    "from keras.optimizers import Adam\n",
    "from keras.regularizers import l2"
   ]
  },
  {
   "cell_type": "code",
   "execution_count": 10,
   "metadata": {},
   "outputs": [
    {
     "name": "stdout",
     "output_type": "stream",
     "text": [
      "(272521, 2) (272521,) (134227, 2) (134227,)\n"
     ]
    }
   ],
   "source": [
    "# Usando mains_1, mains_2 para predecir el uso del refrigerador\n",
    "X_train1 = train[['mains_1','mains_2']].values #Variables 2 de entrada\n",
    "y_train1 = train['refrigerator_5'].values #Etiquetas del refrigerador\n",
    "\n",
    "X_test1 = test[['mains_1','mains_2']].values #Variables 2 de entrada\n",
    "y_test1 = test['refrigerator_5'].values #Etiquetas del refrigerador\n",
    "\n",
    "print(X_train1.shape, y_train1.shape, X_test1.shape, y_test1.shape)"
   ]
  },
  {
   "cell_type": "code",
   "execution_count": 11,
   "metadata": {},
   "outputs": [
    {
     "name": "stdout",
     "output_type": "stream",
     "text": [
      "Model: \"sequential\"\n",
      "_________________________________________________________________\n",
      "Layer (type)                 Output Shape              Param #   \n",
      "=================================================================\n",
      "dense (Dense)                (None, 1100)              3300      \n",
      "_________________________________________________________________\n",
      "dropout (Dropout)            (None, 1100)              0         \n",
      "_________________________________________________________________\n",
      "activation (Activation)      (None, 1100)              0         \n",
      "_________________________________________________________________\n",
      "dense_1 (Dense)              (None, 512)               563712    \n",
      "_________________________________________________________________\n",
      "dropout_1 (Dropout)          (None, 512)               0         \n",
      "_________________________________________________________________\n",
      "activation_1 (Activation)    (None, 512)               0         \n",
      "_________________________________________________________________\n",
      "dense_2 (Dense)              (None, 1024)              525312    \n",
      "_________________________________________________________________\n",
      "dropout_2 (Dropout)          (None, 1024)              0         \n",
      "_________________________________________________________________\n",
      "activation_2 (Activation)    (None, 1024)              0         \n",
      "_________________________________________________________________\n",
      "dense_3 (Dense)              (None, 1)                 1025      \n",
      "_________________________________________________________________\n",
      "dropout_3 (Dropout)          (None, 1)                 0         \n",
      "=================================================================\n",
      "Total params: 1,093,349\n",
      "Trainable params: 1,093,349\n",
      "Non-trainable params: 0\n",
      "_________________________________________________________________\n"
     ]
    }
   ],
   "source": [
    "def build_fc_model(layers):\n",
    "    fc_model = Sequential() #Crea un objeto vacio que contendra el modelo\n",
    "    for i in range(len(layers)-1):\n",
    "        #print(f'input_dim = {layers[i]}')\n",
    "        #print(f'output_dim = {layers[i+1]}')\n",
    "        \n",
    "        #Para evitar problemas defina los valores de las neuronas por fuera de Dense\n",
    "        output_dim = layers[i+1]\n",
    "        input_dim = layers[i]\n",
    "        fc_model.add(Dense(layers[i+1], input_dim = layers[i]))\n",
    "              \n",
    "        fc_model.add(Dropout(0.25))\n",
    "        if i < (len(layers) - 2):\n",
    "            fc_model.add( Activation('relu'))\n",
    "        #else:\n",
    "        #    fc_model.add( Activation('sigmoid'))\n",
    "    fc_model.summary()\n",
    "    \n",
    "    return fc_model\n",
    "\n",
    "fc_model_1 = build_fc_model([2, 512, 512, 1024, 1])"
   ]
  },
  {
   "cell_type": "code",
   "execution_count": 12,
   "metadata": {},
   "outputs": [
    {
     "name": "stdout",
     "output_type": "stream",
     "text": [
      "Epoch 1/20\n",
      "609/609 [==============================] - 17s 27ms/step - loss: 8984.5752 - binary_accuracy: 5.4768e-06 - val_loss: 7521.3394 - val_binary_accuracy: 2.1127e-04\n",
      "Epoch 2/20\n",
      "609/609 [==============================] - 17s 28ms/step - loss: 8697.7490 - binary_accuracy: 1.0954e-05 - val_loss: 7243.7720 - val_binary_accuracy: 2.7799e-04\n",
      "Epoch 3/20\n",
      "609/609 [==============================] - 16s 27ms/step - loss: 8507.3115 - binary_accuracy: 1.0954e-05 - val_loss: 7138.4038 - val_binary_accuracy: 3.8918e-04\n",
      "Epoch 4/20\n",
      "609/609 [==============================] - 17s 27ms/step - loss: 8351.9209 - binary_accuracy: 1.0954e-05 - val_loss: 6843.8652 - val_binary_accuracy: 3.4470e-04\n",
      "Epoch 5/20\n",
      "609/609 [==============================] - 16s 27ms/step - loss: 8230.4150 - binary_accuracy: 1.0954e-05 - val_loss: 7006.4600 - val_binary_accuracy: 4.2254e-04\n",
      "Epoch 6/20\n",
      "609/609 [==============================] - 17s 27ms/step - loss: 8115.0215 - binary_accuracy: 5.4768e-06 - val_loss: 6513.8950 - val_binary_accuracy: 3.5582e-04\n",
      "Epoch 7/20\n",
      "609/609 [==============================] - 17s 28ms/step - loss: 7986.0225 - binary_accuracy: 5.4768e-06 - val_loss: 6518.8164 - val_binary_accuracy: 3.5582e-04\n",
      "Epoch 8/20\n",
      "609/609 [==============================] - 16s 27ms/step - loss: 7933.7993 - binary_accuracy: 1.0954e-05 - val_loss: 6392.0190 - val_binary_accuracy: 3.4470e-04\n",
      "Epoch 9/20\n",
      "609/609 [==============================] - 16s 27ms/step - loss: 7883.1504 - binary_accuracy: 5.4768e-06 - val_loss: 6382.4443 - val_binary_accuracy: 3.4470e-04\n",
      "Epoch 10/20\n",
      "609/609 [==============================] - 16s 26ms/step - loss: 7840.6421 - binary_accuracy: 1.0954e-05 - val_loss: 6125.9517 - val_binary_accuracy: 3.4470e-04\n",
      "Epoch 11/20\n",
      "609/609 [==============================] - 16s 26ms/step - loss: 7825.2144 - binary_accuracy: 1.0954e-05 - val_loss: 6312.7852 - val_binary_accuracy: 3.4470e-04\n",
      "Epoch 12/20\n",
      "609/609 [==============================] - 16s 26ms/step - loss: 7782.0215 - binary_accuracy: 1.0954e-05 - val_loss: 6020.3633 - val_binary_accuracy: 2.3351e-04\n",
      "Epoch 13/20\n",
      "609/609 [==============================] - 16s 26ms/step - loss: 7735.4360 - binary_accuracy: 5.4768e-06 - val_loss: 6225.5249 - val_binary_accuracy: 2.4463e-04\n",
      "Epoch 14/20\n",
      "609/609 [==============================] - 16s 26ms/step - loss: 7729.2520 - binary_accuracy: 1.0954e-05 - val_loss: 5971.7896 - val_binary_accuracy: 2.7799e-04\n",
      "Epoch 15/20\n",
      "609/609 [==============================] - 16s 27ms/step - loss: 7692.9790 - binary_accuracy: 1.0954e-05 - val_loss: 6029.5439 - val_binary_accuracy: 2.1127e-04\n",
      "Epoch 16/20\n",
      "609/609 [==============================] - 16s 26ms/step - loss: 7679.5493 - binary_accuracy: 1.0954e-05 - val_loss: 5919.3877 - val_binary_accuracy: 2.1127e-04\n",
      "Epoch 17/20\n",
      "609/609 [==============================] - 16s 26ms/step - loss: 7669.0918 - binary_accuracy: 1.0954e-05 - val_loss: 6100.2285 - val_binary_accuracy: 2.3351e-04\n",
      "Epoch 18/20\n",
      "609/609 [==============================] - 16s 26ms/step - loss: 7633.4146 - binary_accuracy: 1.0954e-05 - val_loss: 6038.6631 - val_binary_accuracy: 2.1127e-04\n",
      "Epoch 19/20\n",
      "609/609 [==============================] - 16s 27ms/step - loss: 7570.8618 - binary_accuracy: 0.0000e+00 - val_loss: 6131.7461 - val_binary_accuracy: 2.1127e-04\n",
      "Epoch 20/20\n",
      "609/609 [==============================] - 17s 28ms/step - loss: 7619.4468 - binary_accuracy: 5.4768e-06 - val_loss: 5988.3540 - val_binary_accuracy: 2.1127e-04\n"
     ]
    }
   ],
   "source": [
    "adam = Adam(lr = 1e-5) #Optimizador con learnig rate de 1e-5\n",
    "fc_model_1.compile(loss='mean_squared_error', optimizer=adam, metrics=['binary_accuracy']) \n",
    "#Guarda los pesos del entrenamiento en ciertos puntos para continuar el entrenamiento o guardar el modelo\n",
    "checkpointer = ModelCheckpoint(filepath=\"./fc_refrig_h1_2.hdf5\", verbose=0, save_best_only=True)\n",
    "hist_fc_1 = fc_model_1.fit( X_train1, y_train1, batch_size=300, verbose=1, epochs=20, validation_split=0.33, callbacks=[checkpointer])\n"
   ]
  },
  {
   "cell_type": "code",
   "execution_count": 13,
   "metadata": {},
   "outputs": [
    {
     "data": {
      "image/png": "[encoded data removed]",
      "text/plain": [
       "<Figure size 1728x720 with 1 Axes>"
      ]
     },
     "metadata": {
      "needs_background": "light"
     },
     "output_type": "display_data"
    }
   ],
   "source": [
    "train_loss = hist_fc_1.history['loss']\n",
    "val_loss = hist_fc_1.history['val_loss']\n",
    "def plot_losses(train_loss, val_loss):\n",
    "    plt.rcParams[\"figure.figsize\"] = [24,10]\n",
    "    plt.title('Mean squared error of train and val set on house 1')\n",
    "    plt.plot( range(len(train_loss)), train_loss, color = 'b', alpha = 0.6, label='train_loss' )\n",
    "    plt.plot( range(len( val_loss )), val_loss, color = 'r', alpha = 0.6, label='val_loss' )\n",
    "    plt.xlabel( 'epoch' )\n",
    "    plt.ylabel( 'loss' )\n",
    "    plt.legend()\n",
    "\n",
    "plot_losses(train_loss, val_loss)"
   ]
  },
  {
   "cell_type": "markdown",
   "metadata": {},
   "source": [
    "### Validando el modelo"
   ]
  },
  {
   "cell_type": "code",
   "execution_count": 14,
   "metadata": {},
   "outputs": [
    {
     "name": "stdout",
     "output_type": "stream",
     "text": [
      "4195/4195 [==============================] - 7s 2ms/step - loss: 6906.1348 - binary_accuracy: 0.0000e+00\n",
      "\n",
      "binary_accuracy: 0.00%\n"
     ]
    }
   ],
   "source": [
    "scores = fc_model_1.evaluate(X_test1, y_test1)\n",
    "print(\"\\n%s: %.2f%%\" % (fc_model_1.metrics_names[1], scores[1]*100))"
   ]
  },
  {
   "cell_type": "markdown",
   "metadata": {},
   "source": [
    "## Creando una nueva arquitectura"
   ]
  },
  {
   "cell_type": "markdown",
   "metadata": {},
   "source": [
    "### División de los datos usando sklearn\n",
    "- Como entrada usaremos los datos main_1 y main_2 correspondientes a las columnas 0 y 1\n",
    "- Como layer usaremos el refrigerador \n",
    "- Las proporciones seran de 80 y 20%"
   ]
  },
  {
   "cell_type": "code",
   "execution_count": 6,
   "metadata": {},
   "outputs": [],
   "source": [
    "variables = data_casa_1[['mains_1','mains_2']].values\n",
    "objetivos = data_casa_1['refrigerator_5'].values"
   ]
  },
  {
   "cell_type": "code",
   "execution_count": 7,
   "metadata": {},
   "outputs": [
    {
     "name": "stdout",
     "output_type": "stream",
     "text": [
      "x_train (325398, 2), x_test (81350, 2), y_train (325398,), y_test (81350,)\n"
     ]
    }
   ],
   "source": [
    "from sklearn.model_selection import train_test_split\n",
    "x_train, x_test, y_train, y_test = train_test_split(variables, objetivos, test_size = 0.2,  random_state = 2020)\n",
    "print(f'x_train {x_train.shape}, x_test {x_test.shape}, y_train {y_train.shape}, y_test {y_test.shape}')"
   ]
  },
  {
   "cell_type": "markdown",
   "metadata": {},
   "source": [
    "Se creara un grupo de control o evaluación para el conjunto de datos. Este conjunto sera extraido del conjunto de datos de train definidos en la línea anterior.  \n",
    "En estos casos se toma la división en proporción 90 y 10%"
   ]
  },
  {
   "cell_type": "code",
   "execution_count": 8,
   "metadata": {},
   "outputs": [
    {
     "name": "stdout",
     "output_type": "stream",
     "text": [
      "x_train (292858, 2), x_val (32540, 2), y_train (292858,), y_val (32540,)\n"
     ]
    }
   ],
   "source": [
    "x_train, x_val, y_train, y_val = train_test_split(x_train, y_train, test_size = 0.1,  random_state = 2020)\n",
    "print(f'x_train {x_train.shape}, x_val {x_val.shape}, y_train {y_train.shape}, y_val {y_val.shape}')"
   ]
  },
  {
   "cell_type": "code",
   "execution_count": 9,
   "metadata": {},
   "outputs": [],
   "source": [
    "from keras.models import Sequential\n",
    "from keras.layers import Dense"
   ]
  },
  {
   "cell_type": "markdown",
   "metadata": {},
   "source": [
    "Por convension se toman valores multiplos de 2.  \n",
    "loss = 'binary_crossentropy'"
   ]
  },
  {
   "cell_type": "code",
   "execution_count": 10,
   "metadata": {},
   "outputs": [],
   "source": [
    "model = Sequential()\n",
    "model.add(Dense(256, input_dim = x_train.shape[1], activation = 'relu'))\n",
    "model.add(Dense(512, activation = 'relu'))\n",
    "model.add(Dense(256, activation = 'relu'))\n",
    "model.add(Dense(1, activation = 'sigmoid'))\n",
    "model.compile(optimizer = 'Adam', loss = 'mse', metrics=['accuracy'])"
   ]
  },
  {
   "cell_type": "code",
   "execution_count": 11,
   "metadata": {},
   "outputs": [],
   "source": [
    "#pip install pydot"
   ]
  },
  {
   "cell_type": "code",
   "execution_count": 12,
   "metadata": {},
   "outputs": [],
   "source": [
    "#from keras.utils import plot_model\n",
    "#plot_model(model, to_file='model.png',show_shapes=True)"
   ]
  },
  {
   "cell_type": "code",
   "execution_count": 14,
   "metadata": {},
   "outputs": [
    {
     "name": "stdout",
     "output_type": "stream",
     "text": [
      "Epoch 1/5\n",
      "977/977 [==============================] - 10s 10ms/step - loss: 10989.6602 - accuracy: 5.1219e-05 - val_loss: 10791.5713 - val_accuracy: 3.0731e-05\n",
      "Epoch 2/5\n",
      "977/977 [==============================] - 8s 9ms/step - loss: 10989.6455 - accuracy: 5.1219e-05 - val_loss: 10791.5713 - val_accuracy: 3.0731e-05\n",
      "Epoch 3/5\n",
      "977/977 [==============================] - 8s 8ms/step - loss: 10989.6348 - accuracy: 5.1219e-05 - val_loss: 10791.5713 - val_accuracy: 3.0731e-05\n",
      "Epoch 4/5\n",
      "977/977 [==============================] - 8s 8ms/step - loss: 10989.6592 - accuracy: 5.1219e-05 - val_loss: 10791.5713 - val_accuracy: 3.0731e-05\n",
      "Epoch 5/5\n",
      "977/977 [==============================] - 8s 8ms/step - loss: 10989.6357 - accuracy: 5.1219e-05 - val_loss: 10791.5713 - val_accuracy: 3.0731e-05\n"
     ]
    },
    {
     "data": {
      "text/plain": [
       "<tensorflow.python.keras.callbacks.History at 0x223a2883040>"
      ]
     },
     "execution_count": 14,
     "metadata": {},
     "output_type": "execute_result"
    }
   ],
   "source": [
    "model.fit(x_train, y_train, validation_data = (x_val, y_val), epochs = 5, batch_size =  300, verbose = 1)"
   ]
  },
  {
   "cell_type": "markdown",
   "metadata": {},
   "source": [
    "- Nuevamente se observa que el accuracy y la función de perdida no tienen ningún cambio o mejora a pesar de agregar capas ocultas y aumentar el número de neuronas. \n",
    "- Intentaremos mejorar los resultados normalizando los datos. "
   ]
  },
  {
   "cell_type": "markdown",
   "metadata": {},
   "source": [
    "### Normalizando los datos\n",
    "Primero se hacemos una inspección visual para determinar si la base de datos tiene rangos de valores demasiado grandes entre ellos. "
   ]
  },
  {
   "cell_type": "code",
   "execution_count": 17,
   "metadata": {},
   "outputs": [
    {
     "data": {
      "text/html": [
       "<div>\n",
       "<style scoped>\n",
       "    .dataframe tbody tr th:only-of-type {\n",
       "        vertical-align: middle;\n",
       "    }\n",
       "\n",
       "    .dataframe tbody tr th {\n",
       "        vertical-align: top;\n",
       "    }\n",
       "\n",
       "    .dataframe thead th {\n",
       "        text-align: right;\n",
       "    }\n",
       "</style>\n",
       "<table border=\"1\" class=\"dataframe\">\n",
       "  <thead>\n",
       "    <tr style=\"text-align: right;\">\n",
       "      <th></th>\n",
       "      <th>mains_1</th>\n",
       "      <th>mains_2</th>\n",
       "      <th>oven_3</th>\n",
       "      <th>oven_4</th>\n",
       "      <th>refrigerator_5</th>\n",
       "      <th>dishwaser_6</th>\n",
       "      <th>kitchen_outlets_7</th>\n",
       "      <th>kitchen_outlets_8</th>\n",
       "      <th>lighting_9</th>\n",
       "      <th>washer_dryer_10</th>\n",
       "      <th>microwave_11</th>\n",
       "      <th>bathroom_gfi_12</th>\n",
       "      <th>electric_heat_13</th>\n",
       "      <th>stove_14</th>\n",
       "      <th>kitchen_outlets_15</th>\n",
       "      <th>kitchen_outlets_16</th>\n",
       "      <th>lighting_17</th>\n",
       "      <th>lighting_18</th>\n",
       "      <th>washer_dryer_19</th>\n",
       "      <th>washer_dryer_20</th>\n",
       "    </tr>\n",
       "  </thead>\n",
       "  <tbody>\n",
       "    <tr>\n",
       "      <th>2011-04-18 13:22:13</th>\n",
       "      <td>222.20</td>\n",
       "      <td>118.83</td>\n",
       "      <td>0.0</td>\n",
       "      <td>0.0</td>\n",
       "      <td>6.0</td>\n",
       "      <td>0.0</td>\n",
       "      <td>34.0</td>\n",
       "      <td>21.0</td>\n",
       "      <td>81.0</td>\n",
       "      <td>0.0</td>\n",
       "      <td>5.0</td>\n",
       "      <td>1.0</td>\n",
       "      <td>0.0</td>\n",
       "      <td>0.0</td>\n",
       "      <td>2.0</td>\n",
       "      <td>0.0</td>\n",
       "      <td>65.0</td>\n",
       "      <td>46.0</td>\n",
       "      <td>0.0</td>\n",
       "      <td>0.0</td>\n",
       "    </tr>\n",
       "    <tr>\n",
       "      <th>2011-04-18 13:22:16</th>\n",
       "      <td>223.17</td>\n",
       "      <td>119.19</td>\n",
       "      <td>0.0</td>\n",
       "      <td>0.0</td>\n",
       "      <td>6.0</td>\n",
       "      <td>0.0</td>\n",
       "      <td>34.0</td>\n",
       "      <td>21.0</td>\n",
       "      <td>81.0</td>\n",
       "      <td>0.0</td>\n",
       "      <td>5.0</td>\n",
       "      <td>1.0</td>\n",
       "      <td>0.0</td>\n",
       "      <td>0.0</td>\n",
       "      <td>2.0</td>\n",
       "      <td>0.0</td>\n",
       "      <td>65.0</td>\n",
       "      <td>46.0</td>\n",
       "      <td>0.0</td>\n",
       "      <td>0.0</td>\n",
       "    </tr>\n",
       "    <tr>\n",
       "      <th>2011-04-18 13:22:20</th>\n",
       "      <td>223.60</td>\n",
       "      <td>118.92</td>\n",
       "      <td>0.0</td>\n",
       "      <td>0.0</td>\n",
       "      <td>6.0</td>\n",
       "      <td>0.0</td>\n",
       "      <td>34.0</td>\n",
       "      <td>22.0</td>\n",
       "      <td>81.0</td>\n",
       "      <td>0.0</td>\n",
       "      <td>5.0</td>\n",
       "      <td>1.0</td>\n",
       "      <td>0.0</td>\n",
       "      <td>0.0</td>\n",
       "      <td>2.0</td>\n",
       "      <td>0.0</td>\n",
       "      <td>65.0</td>\n",
       "      <td>46.0</td>\n",
       "      <td>0.0</td>\n",
       "      <td>0.0</td>\n",
       "    </tr>\n",
       "    <tr>\n",
       "      <th>2011-04-18 13:22:23</th>\n",
       "      <td>222.91</td>\n",
       "      <td>119.16</td>\n",
       "      <td>0.0</td>\n",
       "      <td>0.0</td>\n",
       "      <td>6.0</td>\n",
       "      <td>1.0</td>\n",
       "      <td>35.0</td>\n",
       "      <td>21.0</td>\n",
       "      <td>81.0</td>\n",
       "      <td>0.0</td>\n",
       "      <td>5.0</td>\n",
       "      <td>1.0</td>\n",
       "      <td>0.0</td>\n",
       "      <td>0.0</td>\n",
       "      <td>1.0</td>\n",
       "      <td>0.0</td>\n",
       "      <td>65.0</td>\n",
       "      <td>46.0</td>\n",
       "      <td>0.0</td>\n",
       "      <td>0.0</td>\n",
       "    </tr>\n",
       "    <tr>\n",
       "      <th>2011-04-18 13:22:26</th>\n",
       "      <td>222.94</td>\n",
       "      <td>118.83</td>\n",
       "      <td>0.0</td>\n",
       "      <td>0.0</td>\n",
       "      <td>6.0</td>\n",
       "      <td>0.0</td>\n",
       "      <td>34.0</td>\n",
       "      <td>21.0</td>\n",
       "      <td>81.0</td>\n",
       "      <td>0.0</td>\n",
       "      <td>5.0</td>\n",
       "      <td>1.0</td>\n",
       "      <td>0.0</td>\n",
       "      <td>0.0</td>\n",
       "      <td>2.0</td>\n",
       "      <td>0.0</td>\n",
       "      <td>65.0</td>\n",
       "      <td>46.0</td>\n",
       "      <td>0.0</td>\n",
       "      <td>0.0</td>\n",
       "    </tr>\n",
       "    <tr>\n",
       "      <th>2011-04-18 13:22:30</th>\n",
       "      <td>222.90</td>\n",
       "      <td>118.76</td>\n",
       "      <td>0.0</td>\n",
       "      <td>0.0</td>\n",
       "      <td>6.0</td>\n",
       "      <td>0.0</td>\n",
       "      <td>33.0</td>\n",
       "      <td>21.0</td>\n",
       "      <td>81.0</td>\n",
       "      <td>0.0</td>\n",
       "      <td>5.0</td>\n",
       "      <td>1.0</td>\n",
       "      <td>0.0</td>\n",
       "      <td>0.0</td>\n",
       "      <td>1.0</td>\n",
       "      <td>0.0</td>\n",
       "      <td>66.0</td>\n",
       "      <td>46.0</td>\n",
       "      <td>0.0</td>\n",
       "      <td>0.0</td>\n",
       "    </tr>\n",
       "    <tr>\n",
       "      <th>2011-04-18 13:22:33</th>\n",
       "      <td>222.96</td>\n",
       "      <td>118.88</td>\n",
       "      <td>0.0</td>\n",
       "      <td>0.0</td>\n",
       "      <td>6.0</td>\n",
       "      <td>0.0</td>\n",
       "      <td>34.0</td>\n",
       "      <td>21.0</td>\n",
       "      <td>81.0</td>\n",
       "      <td>0.0</td>\n",
       "      <td>5.0</td>\n",
       "      <td>1.0</td>\n",
       "      <td>0.0</td>\n",
       "      <td>0.0</td>\n",
       "      <td>1.0</td>\n",
       "      <td>0.0</td>\n",
       "      <td>65.0</td>\n",
       "      <td>46.0</td>\n",
       "      <td>0.0</td>\n",
       "      <td>0.0</td>\n",
       "    </tr>\n",
       "    <tr>\n",
       "      <th>2011-04-18 13:22:37</th>\n",
       "      <td>222.54</td>\n",
       "      <td>118.36</td>\n",
       "      <td>0.0</td>\n",
       "      <td>0.0</td>\n",
       "      <td>6.0</td>\n",
       "      <td>0.0</td>\n",
       "      <td>34.0</td>\n",
       "      <td>21.0</td>\n",
       "      <td>82.0</td>\n",
       "      <td>0.0</td>\n",
       "      <td>5.0</td>\n",
       "      <td>1.0</td>\n",
       "      <td>0.0</td>\n",
       "      <td>0.0</td>\n",
       "      <td>2.0</td>\n",
       "      <td>0.0</td>\n",
       "      <td>65.0</td>\n",
       "      <td>46.0</td>\n",
       "      <td>0.0</td>\n",
       "      <td>0.0</td>\n",
       "    </tr>\n",
       "    <tr>\n",
       "      <th>2011-04-18 13:22:40</th>\n",
       "      <td>226.03</td>\n",
       "      <td>119.17</td>\n",
       "      <td>0.0</td>\n",
       "      <td>0.0</td>\n",
       "      <td>6.0</td>\n",
       "      <td>0.0</td>\n",
       "      <td>38.0</td>\n",
       "      <td>21.0</td>\n",
       "      <td>82.0</td>\n",
       "      <td>0.0</td>\n",
       "      <td>5.0</td>\n",
       "      <td>1.0</td>\n",
       "      <td>0.0</td>\n",
       "      <td>0.0</td>\n",
       "      <td>2.0</td>\n",
       "      <td>0.0</td>\n",
       "      <td>65.0</td>\n",
       "      <td>46.0</td>\n",
       "      <td>0.0</td>\n",
       "      <td>0.0</td>\n",
       "    </tr>\n",
       "    <tr>\n",
       "      <th>2011-04-18 13:22:44</th>\n",
       "      <td>222.96</td>\n",
       "      <td>119.03</td>\n",
       "      <td>0.0</td>\n",
       "      <td>0.0</td>\n",
       "      <td>6.0</td>\n",
       "      <td>0.0</td>\n",
       "      <td>34.0</td>\n",
       "      <td>21.0</td>\n",
       "      <td>81.0</td>\n",
       "      <td>0.0</td>\n",
       "      <td>5.0</td>\n",
       "      <td>1.0</td>\n",
       "      <td>0.0</td>\n",
       "      <td>0.0</td>\n",
       "      <td>1.0</td>\n",
       "      <td>0.0</td>\n",
       "      <td>65.0</td>\n",
       "      <td>46.0</td>\n",
       "      <td>0.0</td>\n",
       "      <td>0.0</td>\n",
       "    </tr>\n",
       "  </tbody>\n",
       "</table>\n",
       "</div>"
      ],
      "text/plain": [
       "                     mains_1  mains_2  oven_3  oven_4  refrigerator_5  \\\n",
       "2011-04-18 13:22:13   222.20   118.83     0.0     0.0             6.0   \n",
       "2011-04-18 13:22:16   223.17   119.19     0.0     0.0             6.0   \n",
       "2011-04-18 13:22:20   223.60   118.92     0.0     0.0             6.0   \n",
       "2011-04-18 13:22:23   222.91   119.16     0.0     0.0             6.0   \n",
       "2011-04-18 13:22:26   222.94   118.83     0.0     0.0             6.0   \n",
       "2011-04-18 13:22:30   222.90   118.76     0.0     0.0             6.0   \n",
       "2011-04-18 13:22:33   222.96   118.88     0.0     0.0             6.0   \n",
       "2011-04-18 13:22:37   222.54   118.36     0.0     0.0             6.0   \n",
       "2011-04-18 13:22:40   226.03   119.17     0.0     0.0             6.0   \n",
       "2011-04-18 13:22:44   222.96   119.03     0.0     0.0             6.0   \n",
       "\n",
       "                     dishwaser_6  kitchen_outlets_7  kitchen_outlets_8  \\\n",
       "2011-04-18 13:22:13          0.0               34.0               21.0   \n",
       "2011-04-18 13:22:16          0.0               34.0               21.0   \n",
       "2011-04-18 13:22:20          0.0               34.0               22.0   \n",
       "2011-04-18 13:22:23          1.0               35.0               21.0   \n",
       "2011-04-18 13:22:26          0.0               34.0               21.0   \n",
       "2011-04-18 13:22:30          0.0               33.0               21.0   \n",
       "2011-04-18 13:22:33          0.0               34.0               21.0   \n",
       "2011-04-18 13:22:37          0.0               34.0               21.0   \n",
       "2011-04-18 13:22:40          0.0               38.0               21.0   \n",
       "2011-04-18 13:22:44          0.0               34.0               21.0   \n",
       "\n",
       "                     lighting_9  washer_dryer_10  microwave_11  \\\n",
       "2011-04-18 13:22:13        81.0              0.0           5.0   \n",
       "2011-04-18 13:22:16        81.0              0.0           5.0   \n",
       "2011-04-18 13:22:20        81.0              0.0           5.0   \n",
       "2011-04-18 13:22:23        81.0              0.0           5.0   \n",
       "2011-04-18 13:22:26        81.0              0.0           5.0   \n",
       "2011-04-18 13:22:30        81.0              0.0           5.0   \n",
       "2011-04-18 13:22:33        81.0              0.0           5.0   \n",
       "2011-04-18 13:22:37        82.0              0.0           5.0   \n",
       "2011-04-18 13:22:40        82.0              0.0           5.0   \n",
       "2011-04-18 13:22:44        81.0              0.0           5.0   \n",
       "\n",
       "                     bathroom_gfi_12  electric_heat_13  stove_14  \\\n",
       "2011-04-18 13:22:13              1.0               0.0       0.0   \n",
       "2011-04-18 13:22:16              1.0               0.0       0.0   \n",
       "2011-04-18 13:22:20              1.0               0.0       0.0   \n",
       "2011-04-18 13:22:23              1.0               0.0       0.0   \n",
       "2011-04-18 13:22:26              1.0               0.0       0.0   \n",
       "2011-04-18 13:22:30              1.0               0.0       0.0   \n",
       "2011-04-18 13:22:33              1.0               0.0       0.0   \n",
       "2011-04-18 13:22:37              1.0               0.0       0.0   \n",
       "2011-04-18 13:22:40              1.0               0.0       0.0   \n",
       "2011-04-18 13:22:44              1.0               0.0       0.0   \n",
       "\n",
       "                     kitchen_outlets_15  kitchen_outlets_16  lighting_17  \\\n",
       "2011-04-18 13:22:13                 2.0                 0.0         65.0   \n",
       "2011-04-18 13:22:16                 2.0                 0.0         65.0   \n",
       "2011-04-18 13:22:20                 2.0                 0.0         65.0   \n",
       "2011-04-18 13:22:23                 1.0                 0.0         65.0   \n",
       "2011-04-18 13:22:26                 2.0                 0.0         65.0   \n",
       "2011-04-18 13:22:30                 1.0                 0.0         66.0   \n",
       "2011-04-18 13:22:33                 1.0                 0.0         65.0   \n",
       "2011-04-18 13:22:37                 2.0                 0.0         65.0   \n",
       "2011-04-18 13:22:40                 2.0                 0.0         65.0   \n",
       "2011-04-18 13:22:44                 1.0                 0.0         65.0   \n",
       "\n",
       "                     lighting_18  washer_dryer_19  washer_dryer_20  \n",
       "2011-04-18 13:22:13         46.0              0.0              0.0  \n",
       "2011-04-18 13:22:16         46.0              0.0              0.0  \n",
       "2011-04-18 13:22:20         46.0              0.0              0.0  \n",
       "2011-04-18 13:22:23         46.0              0.0              0.0  \n",
       "2011-04-18 13:22:26         46.0              0.0              0.0  \n",
       "2011-04-18 13:22:30         46.0              0.0              0.0  \n",
       "2011-04-18 13:22:33         46.0              0.0              0.0  \n",
       "2011-04-18 13:22:37         46.0              0.0              0.0  \n",
       "2011-04-18 13:22:40         46.0              0.0              0.0  \n",
       "2011-04-18 13:22:44         46.0              0.0              0.0  "
      ]
     },
     "execution_count": 17,
     "metadata": {},
     "output_type": "execute_result"
    }
   ],
   "source": [
    "data_casa_1.head(10)"
   ]
  },
  {
   "cell_type": "code",
   "execution_count": 25,
   "metadata": {},
   "outputs": [
    {
     "name": "stdout",
     "output_type": "stream",
     "text": [
      "mains_1 max =  6081.36 mains_1 min =  51.87\n",
      "mains_2 max =  6288.42 mains_2 min =  36.72\n",
      "oven_3 max =  1725.0 oven_3 min =  0.0\n",
      "oven_4 max =  2565.0 oven_4 min =  0.0\n",
      "refrigerator_5 max =  2359.0 refrigerator_5 min =  0.0\n",
      "dishwaser_6 max =  1422.0 dishwaser_6 min =  0.0\n",
      "kitchen_outlets_7 max =  59.0 kitchen_outlets_7 min =  7.0\n",
      "kitchen_outlets_8 max =  1550.0 kitchen_outlets_8 min =  3.0\n",
      "lighting_9 max =  363.0 lighting_9 min =  0.0\n",
      "washer_dryer_10 max =  4475.0 washer_dryer_10 min =  0.0\n",
      "microwave_11 max =  2906.0 microwave_11 min =  1.0\n",
      "bathroom_gfi_12 max =  1686.0 bathroom_gfi_12 min =  0.0\n",
      "electric_heat_13 max =  192.0 electric_heat_13 min =  0.0\n",
      "stove_14 max =  36.0 stove_14 min =  0.0\n",
      "kitchen_outlets_15 max =  1118.0 kitchen_outlets_15 min =  0.0\n",
      "kitchen_outlets_16 max =  1585.0 kitchen_outlets_16 min =  0.0\n",
      "lighting_17 max =  112.0 lighting_17 min =  0.0\n",
      "lighting_18 max =  90.0 lighting_18 min =  0.0\n",
      "washer_dryer_19 max =  17.5 washer_dryer_19 min =  0.0\n",
      "washer_dryer_20 max =  3222.5 washer_dryer_20 min =  0.0\n"
     ]
    }
   ],
   "source": [
    "etiquetas = list(data_casa_1)\n",
    "for i in range(len(etiquetas)):\n",
    "    print(f'{etiquetas[i]} max =  {data_casa_1[etiquetas[i]].max()} {etiquetas[i]} min =  {data_casa_1[etiquetas[i]].min()}')\n",
    "\n",
    "#print(f'mains_1 max =  {data_casa_1[\"mains_1\"].max()} mains_1 min =  {data_casa_1[\"mains_1\"].min()}')"
   ]
  },
  {
   "cell_type": "markdown",
   "metadata": {},
   "source": [
    "- Los datos estan demasiado separados variando desde decimales a miles\n",
    "- Como se mensiono probaremos si el modelo mejora al normalizar los datos, si bien las medidas maximas tomadas del refrigerador estan en el mismo orden de magnitud de las medidas de las líneas se probara como primer aproximación. "
   ]
  },
  {
   "cell_type": "code",
   "execution_count": 43,
   "metadata": {},
   "outputs": [],
   "source": [
    "from sklearn.preprocessing import StandardScaler\n",
    "scaler = StandardScaler()\n",
    "scaler.fit(x_train)\n",
    "x_train_scaled = scaler.transform(x_train)\n",
    "x_val_scaled = scaler.transform(x_val)\n",
    "scaler2 = StandardScaler()\n",
    "ytrainRS = y_train.reshape(-1,1)\n",
    "yvalRS = y_val.reshape(-1,1)\n",
    "scaler2.fit(ytrainRS)\n",
    "y_train_scaled = scaler2.transform(ytrainRS)\n",
    "y_val_scaled = scaler2.transform(yvalRS)"
   ]
  },
  {
   "cell_type": "code",
   "execution_count": 66,
   "metadata": {},
   "outputs": [],
   "source": [
    "#Se va a normalisar el conjunto de datos total\n",
    "from sklearn import preprocessing\n",
    "df_n1 = data_casa_1\n",
    "scaler = preprocessing.Normalizer(norm = 'l2', copy=True)\n",
    "df_n1 = scaler.fit_transform(df_n1)"
   ]
  },
  {
   "cell_type": "code",
   "execution_count": 78,
   "metadata": {},
   "outputs": [],
   "source": [
    "variables = df_n1[:,:1]\n",
    "objetivos = df_n1[:,2]"
   ]
  },
  {
   "cell_type": "code",
   "execution_count": 81,
   "metadata": {},
   "outputs": [
    {
     "name": "stdout",
     "output_type": "stream",
     "text": [
      "x_train_norm (325398, 1), x_test_norm (81350, 1), y_train_norm (325398,), y_test_norm (81350,)\n",
      "x_train (292858, 1), x_val (32540, 1), y_train (292858,), y_val (32540,)\n"
     ]
    }
   ],
   "source": [
    "from sklearn.model_selection import train_test_split\n",
    "x_train_norm, x_test_norm, y_train_norm, y_test_norm = train_test_split(variables, objetivos, test_size = 0.2,  random_state = 2020)\n",
    "print(f'x_train_norm {x_train_norm.shape}, x_test_norm {x_test_norm.shape}, y_train_norm {y_train_norm.shape}, y_test_norm {y_test_norm.shape}')\n",
    "\n",
    "x_train_norm, x_val_norm, y_train_norm, y_val_norm = train_test_split(x_train_norm, y_train_norm, test_size = 0.1,  random_state = 2020)\n",
    "print(f'x_train {x_train_norm.shape}, x_val {x_val_norm.shape}, y_train {y_train_norm.shape}, y_val {y_val_norm.shape}')"
   ]
  },
  {
   "cell_type": "code",
   "execution_count": 84,
   "metadata": {},
   "outputs": [
    {
     "name": "stdout",
     "output_type": "stream",
     "text": [
      "Epoch 1/200\n",
      "977/977 [==============================] - 7s 8ms/step - loss: 0.0021 - accuracy: 0.9731 - val_loss: 5.3031e-04 - val_accuracy: 0.9742\n",
      "Epoch 2/200\n",
      "977/977 [==============================] - 7s 8ms/step - loss: 5.4491e-04 - accuracy: 0.9741 - val_loss: 5.3031e-04 - val_accuracy: 0.9742\n",
      "Epoch 3/200\n",
      "977/977 [==============================] - 8s 8ms/step - loss: 5.4491e-04 - accuracy: 0.9741 - val_loss: 5.3030e-04 - val_accuracy: 0.9742\n",
      "Epoch 4/200\n",
      "977/977 [==============================] - 7s 8ms/step - loss: 5.4490e-04 - accuracy: 0.9741 - val_loss: 5.3029e-04 - val_accuracy: 0.9742\n",
      "Epoch 5/200\n",
      "977/977 [==============================] - 8s 8ms/step - loss: 5.4490e-04 - accuracy: 0.9741 - val_loss: 5.3028e-04 - val_accuracy: 0.9742\n",
      "Epoch 6/200\n",
      "977/977 [==============================] - 7s 8ms/step - loss: 5.4487e-04 - accuracy: 0.9741 - val_loss: 5.3022e-04 - val_accuracy: 0.9742\n",
      "Epoch 7/200\n",
      "977/977 [==============================] - 7s 8ms/step - loss: 5.4154e-04 - accuracy: 0.9741 - val_loss: 5.2263e-04 - val_accuracy: 0.9742\n",
      "Epoch 8/200\n",
      "977/977 [==============================] - 7s 8ms/step - loss: 5.3659e-04 - accuracy: 0.9741 - val_loss: 5.2260e-04 - val_accuracy: 0.9742\n",
      "Epoch 9/200\n",
      "977/977 [==============================] - 8s 8ms/step - loss: 5.3637e-04 - accuracy: 0.9741 - val_loss: 5.2246e-04 - val_accuracy: 0.9742\n",
      "Epoch 10/200\n",
      "977/977 [==============================] - 7s 8ms/step - loss: 5.3608e-04 - accuracy: 0.9741 - val_loss: 5.2245e-04 - val_accuracy: 0.9742\n",
      "Epoch 11/200\n",
      "977/977 [==============================] - 6s 7ms/step - loss: 5.3566e-04 - accuracy: 0.9741 - val_loss: 5.3635e-04 - val_accuracy: 0.9742\n",
      "Epoch 12/200\n",
      "977/977 [==============================] - 7s 7ms/step - loss: 5.3618e-04 - accuracy: 0.9741 - val_loss: 5.2097e-04 - val_accuracy: 0.9742\n",
      "Epoch 13/200\n",
      "977/977 [==============================] - 8s 8ms/step - loss: 5.3480e-04 - accuracy: 0.9741 - val_loss: 5.3468e-04 - val_accuracy: 0.9742\n",
      "Epoch 14/200\n",
      "977/977 [==============================] - 8s 8ms/step - loss: 5.3582e-04 - accuracy: 0.9741 - val_loss: 5.2000e-04 - val_accuracy: 0.9742\n",
      "Epoch 15/200\n",
      "977/977 [==============================] - 8s 8ms/step - loss: 5.3478e-04 - accuracy: 0.9741 - val_loss: 5.1970e-04 - val_accuracy: 0.9742\n",
      "Epoch 16/200\n",
      "977/977 [==============================] - 8s 8ms/step - loss: 5.3462e-04 - accuracy: 0.9741 - val_loss: 5.1942e-04 - val_accuracy: 0.9742\n",
      "Epoch 17/200\n",
      "977/977 [==============================] - 7s 8ms/step - loss: 5.3466e-04 - accuracy: 0.9741 - val_loss: 5.2070e-04 - val_accuracy: 0.9742\n",
      "Epoch 18/200\n",
      "977/977 [==============================] - 7s 7ms/step - loss: 5.3388e-04 - accuracy: 0.9741 - val_loss: 5.2131e-04 - val_accuracy: 0.9742\n",
      "Epoch 19/200\n",
      "977/977 [==============================] - 6s 6ms/step - loss: 5.3425e-04 - accuracy: 0.9741 - val_loss: 5.1925e-04 - val_accuracy: 0.9742\n",
      "Epoch 20/200\n",
      "977/977 [==============================] - 5s 5ms/step - loss: 5.3384e-04 - accuracy: 0.9741 - val_loss: 5.1957e-04 - val_accuracy: 0.9742\n",
      "Epoch 21/200\n",
      "977/977 [==============================] - 5s 5ms/step - loss: 5.3374e-04 - accuracy: 0.9741 - val_loss: 5.1907e-04 - val_accuracy: 0.9742\n",
      "Epoch 22/200\n",
      "977/977 [==============================] - 5s 5ms/step - loss: 5.3364e-04 - accuracy: 0.9741 - val_loss: 5.1780e-04 - val_accuracy: 0.9742\n",
      "Epoch 23/200\n",
      "977/977 [==============================] - 5s 5ms/step - loss: 5.3386e-04 - accuracy: 0.9741 - val_loss: 5.2109e-04 - val_accuracy: 0.9742\n",
      "Epoch 24/200\n",
      "977/977 [==============================] - 4s 5ms/step - loss: 5.3300e-04 - accuracy: 0.9741 - val_loss: 5.1914e-04 - val_accuracy: 0.9742\n",
      "Epoch 25/200\n",
      "977/977 [==============================] - 4s 4ms/step - loss: 5.3216e-04 - accuracy: 0.9741 - val_loss: 5.2187e-04 - val_accuracy: 0.9742\n",
      "Epoch 26/200\n",
      "977/977 [==============================] - 4s 5ms/step - loss: 5.3211e-04 - accuracy: 0.9741 - val_loss: 5.1896e-04 - val_accuracy: 0.9742\n",
      "Epoch 27/200\n",
      "977/977 [==============================] - 5s 5ms/step - loss: 5.3262e-04 - accuracy: 0.9741 - val_loss: 5.2227e-04 - val_accuracy: 0.9742\n",
      "Epoch 28/200\n",
      "977/977 [==============================] - 5s 5ms/step - loss: 5.3235e-04 - accuracy: 0.9741 - val_loss: 5.1982e-04 - val_accuracy: 0.9742\n",
      "Epoch 29/200\n",
      "977/977 [==============================] - 5s 5ms/step - loss: 5.3284e-04 - accuracy: 0.9741 - val_loss: 5.2240e-04 - val_accuracy: 0.9742\n",
      "Epoch 30/200\n",
      "977/977 [==============================] - 5s 5ms/step - loss: 5.3166e-04 - accuracy: 0.9741 - val_loss: 5.1685e-04 - val_accuracy: 0.9742\n",
      "Epoch 31/200\n",
      "977/977 [==============================] - 5s 5ms/step - loss: 5.3182e-04 - accuracy: 0.9741 - val_loss: 5.1562e-04 - val_accuracy: 0.9742\n",
      "Epoch 32/200\n",
      "977/977 [==============================] - 5s 5ms/step - loss: 5.3114e-04 - accuracy: 0.9741 - val_loss: 5.1580e-04 - val_accuracy: 0.9742\n",
      "Epoch 33/200\n",
      "977/977 [==============================] - 5s 5ms/step - loss: 5.3164e-04 - accuracy: 0.9741 - val_loss: 5.2076e-04 - val_accuracy: 0.9742\n",
      "Epoch 34/200\n",
      "977/977 [==============================] - 5s 5ms/step - loss: 5.3149e-04 - accuracy: 0.9741 - val_loss: 5.1891e-04 - val_accuracy: 0.9742\n",
      "Epoch 35/200\n",
      "977/977 [==============================] - 5s 5ms/step - loss: 5.3229e-04 - accuracy: 0.9741 - val_loss: 5.1840e-04 - val_accuracy: 0.9742\n",
      "Epoch 36/200\n",
      "977/977 [==============================] - 5s 5ms/step - loss: 5.3174e-04 - accuracy: 0.9741 - val_loss: 5.2500e-04 - val_accuracy: 0.9742\n",
      "Epoch 37/200\n",
      "977/977 [==============================] - 5s 5ms/step - loss: 5.3245e-04 - accuracy: 0.9741 - val_loss: 5.2041e-04 - val_accuracy: 0.9742\n",
      "Epoch 38/200\n",
      "977/977 [==============================] - 4s 5ms/step - loss: 5.3139e-04 - accuracy: 0.9741 - val_loss: 5.2057e-04 - val_accuracy: 0.9742\n",
      "Epoch 39/200\n",
      "977/977 [==============================] - 5s 5ms/step - loss: 5.3068e-04 - accuracy: 0.9741 - val_loss: 5.1937e-04 - val_accuracy: 0.9742\n",
      "Epoch 40/200\n",
      "977/977 [==============================] - 5s 5ms/step - loss: 5.3222e-04 - accuracy: 0.9741 - val_loss: 5.1952e-04 - val_accuracy: 0.9742\n",
      "Epoch 41/200\n",
      "977/977 [==============================] - 5s 5ms/step - loss: 5.3252e-04 - accuracy: 0.9741 - val_loss: 5.2039e-04 - val_accuracy: 0.9742\n",
      "Epoch 42/200\n",
      "977/977 [==============================] - 5s 5ms/step - loss: 5.3204e-04 - accuracy: 0.9741 - val_loss: 5.1996e-04 - val_accuracy: 0.9742\n",
      "Epoch 43/200\n",
      "977/977 [==============================] - 5s 5ms/step - loss: 5.3149e-04 - accuracy: 0.9741 - val_loss: 5.1802e-04 - val_accuracy: 0.9742\n",
      "Epoch 44/200\n",
      "977/977 [==============================] - 5s 5ms/step - loss: 5.3161e-04 - accuracy: 0.9741 - val_loss: 5.1738e-04 - val_accuracy: 0.9742\n",
      "Epoch 45/200\n",
      "977/977 [==============================] - 5s 5ms/step - loss: 5.3089e-04 - accuracy: 0.9741 - val_loss: 5.1602e-04 - val_accuracy: 0.9742\n",
      "Epoch 46/200\n",
      "977/977 [==============================] - 5s 5ms/step - loss: 5.3032e-04 - accuracy: 0.9741 - val_loss: 5.1710e-04 - val_accuracy: 0.9742\n",
      "Epoch 47/200\n",
      "977/977 [==============================] - 5s 5ms/step - loss: 5.3006e-04 - accuracy: 0.9741 - val_loss: 5.1720e-04 - val_accuracy: 0.9742\n",
      "Epoch 48/200\n",
      "977/977 [==============================] - 4s 4ms/step - loss: 5.3086e-04 - accuracy: 0.9741 - val_loss: 5.1582e-04 - val_accuracy: 0.9742\n",
      "Epoch 49/200\n",
      "977/977 [==============================] - 4s 5ms/step - loss: 5.2919e-04 - accuracy: 0.9741 - val_loss: 5.1517e-04 - val_accuracy: 0.9742\n",
      "Epoch 50/200\n",
      "977/977 [==============================] - 5s 5ms/step - loss: 5.2981e-04 - accuracy: 0.9741 - val_loss: 5.1953e-04 - val_accuracy: 0.9742\n",
      "Epoch 51/200\n",
      "977/977 [==============================] - 5s 5ms/step - loss: 5.2957e-04 - accuracy: 0.9741 - val_loss: 5.1315e-04 - val_accuracy: 0.9742\n",
      "Epoch 52/200\n",
      "977/977 [==============================] - 5s 5ms/step - loss: 5.2918e-04 - accuracy: 0.9741 - val_loss: 5.1648e-04 - val_accuracy: 0.9742\n",
      "Epoch 53/200\n",
      "977/977 [==============================] - 5s 5ms/step - loss: 5.2998e-04 - accuracy: 0.9741 - val_loss: 5.1708e-04 - val_accuracy: 0.9742\n",
      "Epoch 54/200\n",
      "977/977 [==============================] - 5s 5ms/step - loss: 5.2926e-04 - accuracy: 0.9741 - val_loss: 5.1870e-04 - val_accuracy: 0.9742\n"
     ]
    },
    {
     "name": "stdout",
     "output_type": "stream",
     "text": [
      "Epoch 55/200\n",
      "977/977 [==============================] - 5s 5ms/step - loss: 5.2913e-04 - accuracy: 0.9741 - val_loss: 5.1915e-04 - val_accuracy: 0.9742\n",
      "Epoch 56/200\n",
      "977/977 [==============================] - 5s 5ms/step - loss: 5.2930e-04 - accuracy: 0.9741 - val_loss: 5.2437e-04 - val_accuracy: 0.9742\n",
      "Epoch 57/200\n",
      "977/977 [==============================] - 5s 5ms/step - loss: 5.2928e-04 - accuracy: 0.9741 - val_loss: 5.1667e-04 - val_accuracy: 0.9742\n",
      "Epoch 58/200\n",
      "977/977 [==============================] - 5s 5ms/step - loss: 5.2939e-04 - accuracy: 0.9741 - val_loss: 5.1297e-04 - val_accuracy: 0.9742\n",
      "Epoch 59/200\n",
      "977/977 [==============================] - 5s 5ms/step - loss: 5.3103e-04 - accuracy: 0.9741 - val_loss: 5.1213e-04 - val_accuracy: 0.9742\n",
      "Epoch 60/200\n",
      "977/977 [==============================] - 5s 5ms/step - loss: 5.2942e-04 - accuracy: 0.9741 - val_loss: 5.1672e-04 - val_accuracy: 0.9742\n",
      "Epoch 61/200\n",
      "977/977 [==============================] - 5s 5ms/step - loss: 5.2979e-04 - accuracy: 0.9741 - val_loss: 5.1755e-04 - val_accuracy: 0.9742\n",
      "Epoch 62/200\n",
      "977/977 [==============================] - 5s 5ms/step - loss: 5.2922e-04 - accuracy: 0.9741 - val_loss: 5.1755e-04 - val_accuracy: 0.9742\n",
      "Epoch 63/200\n",
      "977/977 [==============================] - 5s 5ms/step - loss: 5.2857e-04 - accuracy: 0.9741 - val_loss: 5.1283e-04 - val_accuracy: 0.9742\n",
      "Epoch 64/200\n",
      "977/977 [==============================] - 5s 5ms/step - loss: 5.3045e-04 - accuracy: 0.9741 - val_loss: 5.1620e-04 - val_accuracy: 0.9742\n",
      "Epoch 65/200\n",
      "977/977 [==============================] - 5s 5ms/step - loss: 5.2825e-04 - accuracy: 0.9741 - val_loss: 5.1789e-04 - val_accuracy: 0.9742\n",
      "Epoch 66/200\n",
      "977/977 [==============================] - 5s 5ms/step - loss: 5.2943e-04 - accuracy: 0.9741 - val_loss: 5.1188e-04 - val_accuracy: 0.9742\n",
      "Epoch 67/200\n",
      "977/977 [==============================] - 4s 5ms/step - loss: 5.2874e-04 - accuracy: 0.9741 - val_loss: 5.1824e-04 - val_accuracy: 0.9742\n",
      "Epoch 68/200\n",
      "977/977 [==============================] - 5s 5ms/step - loss: 5.3169e-04 - accuracy: 0.9741 - val_loss: 5.1946e-04 - val_accuracy: 0.9742\n",
      "Epoch 69/200\n",
      "977/977 [==============================] - 5s 5ms/step - loss: 5.2834e-04 - accuracy: 0.9741 - val_loss: 5.2446e-04 - val_accuracy: 0.9742\n",
      "Epoch 70/200\n",
      "977/977 [==============================] - 6s 6ms/step - loss: 5.2872e-04 - accuracy: 0.9741 - val_loss: 5.1020e-04 - val_accuracy: 0.9742\n",
      "Epoch 71/200\n",
      "977/977 [==============================] - 5s 5ms/step - loss: 5.2927e-04 - accuracy: 0.9741 - val_loss: 5.1527e-04 - val_accuracy: 0.9742\n",
      "Epoch 72/200\n",
      "977/977 [==============================] - 5s 5ms/step - loss: 5.2849e-04 - accuracy: 0.9741 - val_loss: 5.1465e-04 - val_accuracy: 0.9742\n",
      "Epoch 73/200\n",
      "977/977 [==============================] - 5s 5ms/step - loss: 5.3167e-04 - accuracy: 0.9741 - val_loss: 5.1829e-04 - val_accuracy: 0.9742\n",
      "Epoch 74/200\n",
      "977/977 [==============================] - 5s 5ms/step - loss: 5.2963e-04 - accuracy: 0.9741 - val_loss: 5.1577e-04 - val_accuracy: 0.9742\n",
      "Epoch 75/200\n",
      "977/977 [==============================] - 5s 5ms/step - loss: 5.2893e-04 - accuracy: 0.9741 - val_loss: 5.1222e-04 - val_accuracy: 0.9742\n",
      "Epoch 76/200\n",
      "977/977 [==============================] - 5s 5ms/step - loss: 5.2798e-04 - accuracy: 0.9741 - val_loss: 5.1166e-04 - val_accuracy: 0.9742\n",
      "Epoch 77/200\n",
      "977/977 [==============================] - 5s 5ms/step - loss: 5.3142e-04 - accuracy: 0.9741 - val_loss: 5.1461e-04 - val_accuracy: 0.9742\n",
      "Epoch 78/200\n",
      "977/977 [==============================] - 5s 5ms/step - loss: 5.2820e-04 - accuracy: 0.9741 - val_loss: 5.2158e-04 - val_accuracy: 0.9742\n",
      "Epoch 79/200\n",
      "977/977 [==============================] - 6s 6ms/step - loss: 5.3143e-04 - accuracy: 0.9741 - val_loss: 5.1480e-04 - val_accuracy: 0.9742\n",
      "Epoch 80/200\n",
      "977/977 [==============================] - 5s 5ms/step - loss: 5.2950e-04 - accuracy: 0.9741 - val_loss: 5.1117e-04 - val_accuracy: 0.9742\n",
      "Epoch 81/200\n",
      "977/977 [==============================] - 5s 5ms/step - loss: 5.3075e-04 - accuracy: 0.9741 - val_loss: 5.1333e-04 - val_accuracy: 0.9742\n",
      "Epoch 82/200\n",
      "977/977 [==============================] - 5s 5ms/step - loss: 5.2881e-04 - accuracy: 0.9741 - val_loss: 5.1577e-04 - val_accuracy: 0.9742\n",
      "Epoch 83/200\n",
      "977/977 [==============================] - 5s 5ms/step - loss: 5.2923e-04 - accuracy: 0.9741 - val_loss: 5.1155e-04 - val_accuracy: 0.9742\n",
      "Epoch 84/200\n",
      "977/977 [==============================] - 5s 5ms/step - loss: 5.3158e-04 - accuracy: 0.9741 - val_loss: 5.2111e-04 - val_accuracy: 0.9742\n",
      "Epoch 85/200\n",
      "977/977 [==============================] - 5s 5ms/step - loss: 5.2948e-04 - accuracy: 0.9741 - val_loss: 5.1906e-04 - val_accuracy: 0.9742\n",
      "Epoch 86/200\n",
      "977/977 [==============================] - 5s 5ms/step - loss: 5.2939e-04 - accuracy: 0.9741 - val_loss: 5.1923e-04 - val_accuracy: 0.9742\n",
      "Epoch 87/200\n",
      "977/977 [==============================] - 5s 5ms/step - loss: 5.2971e-04 - accuracy: 0.9741 - val_loss: 5.2916e-04 - val_accuracy: 0.9742\n",
      "Epoch 88/200\n",
      "977/977 [==============================] - 7s 7ms/step - loss: 5.2901e-04 - accuracy: 0.9741 - val_loss: 5.2235e-04 - val_accuracy: 0.9742\n",
      "Epoch 89/200\n",
      "977/977 [==============================] - 7s 8ms/step - loss: 5.2967e-04 - accuracy: 0.9741 - val_loss: 5.1268e-04 - val_accuracy: 0.9742\n",
      "Epoch 90/200\n",
      "977/977 [==============================] - 8s 8ms/step - loss: 5.2900e-04 - accuracy: 0.9741 - val_loss: 5.1420e-04 - val_accuracy: 0.9742\n",
      "Epoch 91/200\n",
      "977/977 [==============================] - 7s 7ms/step - loss: 5.2871e-04 - accuracy: 0.9741 - val_loss: 5.1578e-04 - val_accuracy: 0.9742\n",
      "Epoch 92/200\n",
      "977/977 [==============================] - 7s 7ms/step - loss: 5.2847e-04 - accuracy: 0.9741 - val_loss: 5.1112e-04 - val_accuracy: 0.9742\n",
      "Epoch 93/200\n",
      "977/977 [==============================] - 7s 7ms/step - loss: 5.2866e-04 - accuracy: 0.9741 - val_loss: 5.2047e-04 - val_accuracy: 0.9742\n",
      "Epoch 94/200\n",
      "977/977 [==============================] - 7s 8ms/step - loss: 5.3329e-04 - accuracy: 0.9741 - val_loss: 5.1849e-04 - val_accuracy: 0.9742\n",
      "Epoch 95/200\n",
      "977/977 [==============================] - 7s 8ms/step - loss: 5.2847e-04 - accuracy: 0.9741 - val_loss: 5.1333e-04 - val_accuracy: 0.9742\n",
      "Epoch 96/200\n",
      "977/977 [==============================] - 6s 6ms/step - loss: 5.2976e-04 - accuracy: 0.9741 - val_loss: 5.2130e-04 - val_accuracy: 0.9742\n",
      "Epoch 97/200\n",
      "977/977 [==============================] - 5s 5ms/step - loss: 5.2905e-04 - accuracy: 0.9741 - val_loss: 5.2347e-04 - val_accuracy: 0.9742\n",
      "Epoch 98/200\n",
      "977/977 [==============================] - 5s 5ms/step - loss: 5.2954e-04 - accuracy: 0.9741 - val_loss: 5.1337e-04 - val_accuracy: 0.9742\n",
      "Epoch 99/200\n",
      "977/977 [==============================] - 5s 6ms/step - loss: 5.3005e-04 - accuracy: 0.9741 - val_loss: 5.2088e-04 - val_accuracy: 0.9742\n",
      "Epoch 100/200\n",
      "977/977 [==============================] - 5s 5ms/step - loss: 5.2955e-04 - accuracy: 0.9741 - val_loss: 5.2375e-04 - val_accuracy: 0.9742\n",
      "Epoch 101/200\n",
      "977/977 [==============================] - 5s 5ms/step - loss: 5.2957e-04 - accuracy: 0.9741 - val_loss: 5.2085e-04 - val_accuracy: 0.9742\n",
      "Epoch 102/200\n",
      "977/977 [==============================] - 5s 5ms/step - loss: 5.2853e-04 - accuracy: 0.9741 - val_loss: 5.1896e-04 - val_accuracy: 0.9742\n",
      "Epoch 103/200\n",
      "977/977 [==============================] - 5s 5ms/step - loss: 5.2846e-04 - accuracy: 0.9741 - val_loss: 5.2050e-04 - val_accuracy: 0.9742\n",
      "Epoch 104/200\n",
      "977/977 [==============================] - 6s 6ms/step - loss: 5.2794e-04 - accuracy: 0.9741 - val_loss: 5.1410e-04 - val_accuracy: 0.9742\n",
      "Epoch 105/200\n",
      "977/977 [==============================] - 5s 5ms/step - loss: 5.2759e-04 - accuracy: 0.9741 - val_loss: 5.1113e-04 - val_accuracy: 0.9742\n",
      "Epoch 106/200\n",
      "977/977 [==============================] - 5s 5ms/step - loss: 5.2960e-04 - accuracy: 0.9741 - val_loss: 5.1834e-04 - val_accuracy: 0.9742\n",
      "Epoch 107/200\n",
      "977/977 [==============================] - 5s 5ms/step - loss: 5.3029e-04 - accuracy: 0.9741 - val_loss: 5.1185e-04 - val_accuracy: 0.9742\n",
      "Epoch 108/200\n",
      "977/977 [==============================] - 5s 6ms/step - loss: 5.2746e-04 - accuracy: 0.9741 - val_loss: 5.1280e-04 - val_accuracy: 0.9742\n"
     ]
    },
    {
     "name": "stdout",
     "output_type": "stream",
     "text": [
      "Epoch 109/200\n",
      "977/977 [==============================] - 5s 5ms/step - loss: 5.2760e-04 - accuracy: 0.9741 - val_loss: 5.1829e-04 - val_accuracy: 0.9742\n",
      "Epoch 110/200\n",
      "977/977 [==============================] - 5s 5ms/step - loss: 5.2801e-04 - accuracy: 0.9741 - val_loss: 5.1734e-04 - val_accuracy: 0.9742\n",
      "Epoch 111/200\n",
      "977/977 [==============================] - 5s 5ms/step - loss: 5.2599e-04 - accuracy: 0.9741 - val_loss: 5.2154e-04 - val_accuracy: 0.9742\n",
      "Epoch 112/200\n",
      "977/977 [==============================] - 6s 6ms/step - loss: 5.2762e-04 - accuracy: 0.9741 - val_loss: 5.0947e-04 - val_accuracy: 0.9742\n",
      "Epoch 113/200\n",
      "977/977 [==============================] - 6s 6ms/step - loss: 5.2531e-04 - accuracy: 0.9741 - val_loss: 5.1039e-04 - val_accuracy: 0.9742\n",
      "Epoch 114/200\n",
      "977/977 [==============================] - 5s 5ms/step - loss: 5.2706e-04 - accuracy: 0.9741 - val_loss: 5.0922e-04 - val_accuracy: 0.9742\n",
      "Epoch 115/200\n",
      "977/977 [==============================] - 6s 6ms/step - loss: 5.2725e-04 - accuracy: 0.9741 - val_loss: 5.1107e-04 - val_accuracy: 0.9742\n",
      "Epoch 116/200\n",
      "977/977 [==============================] - 6s 6ms/step - loss: 5.2469e-04 - accuracy: 0.9741 - val_loss: 5.1261e-04 - val_accuracy: 0.9742\n",
      "Epoch 117/200\n",
      "977/977 [==============================] - 6s 7ms/step - loss: 5.2698e-04 - accuracy: 0.9741 - val_loss: 5.1336e-04 - val_accuracy: 0.9742\n",
      "Epoch 118/200\n",
      "977/977 [==============================] - 6s 6ms/step - loss: 5.2625e-04 - accuracy: 0.9741 - val_loss: 5.1769e-04 - val_accuracy: 0.9742\n",
      "Epoch 119/200\n",
      "977/977 [==============================] - 6s 6ms/step - loss: 5.2974e-04 - accuracy: 0.9741 - val_loss: 5.1377e-04 - val_accuracy: 0.9742\n",
      "Epoch 120/200\n",
      "977/977 [==============================] - 5s 5ms/step - loss: 5.2822e-04 - accuracy: 0.9741 - val_loss: 5.1699e-04 - val_accuracy: 0.9742\n",
      "Epoch 121/200\n",
      "977/977 [==============================] - 5s 5ms/step - loss: 5.3167e-04 - accuracy: 0.9741 - val_loss: 5.1786e-04 - val_accuracy: 0.9742\n",
      "Epoch 122/200\n",
      "977/977 [==============================] - 5s 5ms/step - loss: 5.2901e-04 - accuracy: 0.9741 - val_loss: 5.1431e-04 - val_accuracy: 0.9742\n",
      "Epoch 123/200\n",
      "977/977 [==============================] - 5s 5ms/step - loss: 5.3049e-04 - accuracy: 0.9741 - val_loss: 5.1071e-04 - val_accuracy: 0.9742\n",
      "Epoch 124/200\n",
      "977/977 [==============================] - 6s 6ms/step - loss: 5.2755e-04 - accuracy: 0.9741 - val_loss: 5.1747e-04 - val_accuracy: 0.9742\n",
      "Epoch 125/200\n",
      "977/977 [==============================] - 5s 5ms/step - loss: 5.2700e-04 - accuracy: 0.9741 - val_loss: 5.1596e-04 - val_accuracy: 0.9742\n",
      "Epoch 126/200\n",
      "977/977 [==============================] - 5s 5ms/step - loss: 5.2740e-04 - accuracy: 0.9741 - val_loss: 5.1018e-04 - val_accuracy: 0.9742\n",
      "Epoch 127/200\n",
      "977/977 [==============================] - 5s 5ms/step - loss: 5.3111e-04 - accuracy: 0.9741 - val_loss: 5.1324e-04 - val_accuracy: 0.9742\n",
      "Epoch 128/200\n",
      "977/977 [==============================] - 5s 5ms/step - loss: 5.2859e-04 - accuracy: 0.9741 - val_loss: 5.1694e-04 - val_accuracy: 0.9742\n",
      "Epoch 129/200\n",
      "977/977 [==============================] - 5s 5ms/step - loss: 5.2788e-04 - accuracy: 0.9741 - val_loss: 5.2064e-04 - val_accuracy: 0.9742\n",
      "Epoch 130/200\n",
      "977/977 [==============================] - 5s 5ms/step - loss: 5.3271e-04 - accuracy: 0.9741 - val_loss: 5.1418e-04 - val_accuracy: 0.9742\n",
      "Epoch 131/200\n",
      "977/977 [==============================] - 6s 6ms/step - loss: 5.2786e-04 - accuracy: 0.9741 - val_loss: 5.1833e-04 - val_accuracy: 0.9742\n",
      "Epoch 132/200\n",
      "977/977 [==============================] - 5s 5ms/step - loss: 5.3108e-04 - accuracy: 0.9741 - val_loss: 5.1243e-04 - val_accuracy: 0.9742\n",
      "Epoch 133/200\n",
      "977/977 [==============================] - 5s 5ms/step - loss: 5.2773e-04 - accuracy: 0.9741 - val_loss: 5.2155e-04 - val_accuracy: 0.9742\n",
      "Epoch 134/200\n",
      "977/977 [==============================] - 5s 5ms/step - loss: 5.2656e-04 - accuracy: 0.9741 - val_loss: 5.1134e-04 - val_accuracy: 0.9742\n",
      "Epoch 135/200\n",
      "977/977 [==============================] - 5s 5ms/step - loss: 5.2754e-04 - accuracy: 0.9741 - val_loss: 5.2335e-04 - val_accuracy: 0.9742\n",
      "Epoch 136/200\n",
      "977/977 [==============================] - 6s 6ms/step - loss: 5.2829e-04 - accuracy: 0.9741 - val_loss: 5.1601e-04 - val_accuracy: 0.9742\n",
      "Epoch 137/200\n",
      "977/977 [==============================] - 5s 5ms/step - loss: 5.2717e-04 - accuracy: 0.9741 - val_loss: 5.1358e-04 - val_accuracy: 0.9742\n",
      "Epoch 138/200\n",
      "977/977 [==============================] - 5s 5ms/step - loss: 5.2764e-04 - accuracy: 0.9741 - val_loss: 5.2818e-04 - val_accuracy: 0.9742\n",
      "Epoch 139/200\n",
      "977/977 [==============================] - 6s 6ms/step - loss: 5.3127e-04 - accuracy: 0.9741 - val_loss: 5.1577e-04 - val_accuracy: 0.9742\n",
      "Epoch 140/200\n",
      "977/977 [==============================] - 6s 6ms/step - loss: 5.2696e-04 - accuracy: 0.9741 - val_loss: 5.0978e-04 - val_accuracy: 0.9742\n",
      "Epoch 141/200\n",
      "977/977 [==============================] - 6s 6ms/step - loss: 5.2692e-04 - accuracy: 0.9741 - val_loss: 5.2252e-04 - val_accuracy: 0.9742\n",
      "Epoch 142/200\n",
      "977/977 [==============================] - 5s 6ms/step - loss: 5.2719e-04 - accuracy: 0.9741 - val_loss: 5.0991e-04 - val_accuracy: 0.9742\n",
      "Epoch 143/200\n",
      "977/977 [==============================] - 5s 5ms/step - loss: 5.2658e-04 - accuracy: 0.9741 - val_loss: 5.0884e-04 - val_accuracy: 0.9742\n",
      "Epoch 144/200\n",
      "977/977 [==============================] - 5s 5ms/step - loss: 5.3116e-04 - accuracy: 0.9741 - val_loss: 5.1688e-04 - val_accuracy: 0.9742\n",
      "Epoch 145/200\n",
      "977/977 [==============================] - 5s 6ms/step - loss: 5.2876e-04 - accuracy: 0.9741 - val_loss: 5.1552e-04 - val_accuracy: 0.9742\n",
      "Epoch 146/200\n",
      "977/977 [==============================] - 5s 5ms/step - loss: 5.2699e-04 - accuracy: 0.9741 - val_loss: 5.1109e-04 - val_accuracy: 0.9742\n",
      "Epoch 147/200\n",
      "977/977 [==============================] - 5s 5ms/step - loss: 5.2724e-04 - accuracy: 0.9741 - val_loss: 5.1644e-04 - val_accuracy: 0.9742\n",
      "Epoch 148/200\n",
      "977/977 [==============================] - 5s 5ms/step - loss: 5.2705e-04 - accuracy: 0.9741 - val_loss: 5.1724e-04 - val_accuracy: 0.9742\n",
      "Epoch 149/200\n",
      "977/977 [==============================] - 5s 5ms/step - loss: 5.2688e-04 - accuracy: 0.9741 - val_loss: 5.1160e-04 - val_accuracy: 0.9742\n",
      "Epoch 150/200\n",
      "977/977 [==============================] - 5s 5ms/step - loss: 5.2595e-04 - accuracy: 0.9741 - val_loss: 5.1004e-04 - val_accuracy: 0.9742\n",
      "Epoch 151/200\n",
      "977/977 [==============================] - 5s 5ms/step - loss: 5.2642e-04 - accuracy: 0.9741 - val_loss: 5.0721e-04 - val_accuracy: 0.9742\n",
      "Epoch 152/200\n",
      "977/977 [==============================] - 5s 5ms/step - loss: 5.2728e-04 - accuracy: 0.9741 - val_loss: 5.1603e-04 - val_accuracy: 0.9742\n",
      "Epoch 153/200\n",
      "977/977 [==============================] - 8s 9ms/step - loss: 5.2535e-04 - accuracy: 0.9741 - val_loss: 5.1616e-04 - val_accuracy: 0.9742\n",
      "Epoch 154/200\n",
      "977/977 [==============================] - 9s 9ms/step - loss: 5.2547e-04 - accuracy: 0.9741 - val_loss: 5.0945e-04 - val_accuracy: 0.9742\n",
      "Epoch 155/200\n",
      "977/977 [==============================] - 8s 9ms/step - loss: 5.2501e-04 - accuracy: 0.9741 - val_loss: 5.2053e-04 - val_accuracy: 0.9742\n",
      "Epoch 156/200\n",
      "977/977 [==============================] - 8s 8ms/step - loss: 5.2989e-04 - accuracy: 0.9741 - val_loss: 5.1169e-04 - val_accuracy: 0.9742\n",
      "Epoch 157/200\n",
      "977/977 [==============================] - 8s 8ms/step - loss: 5.2821e-04 - accuracy: 0.9741 - val_loss: 5.1773e-04 - val_accuracy: 0.9742\n",
      "Epoch 158/200\n",
      "977/977 [==============================] - 8s 8ms/step - loss: 5.2658e-04 - accuracy: 0.9741 - val_loss: 5.1145e-04 - val_accuracy: 0.9742\n",
      "Epoch 159/200\n",
      "977/977 [==============================] - 7s 8ms/step - loss: 5.2742e-04 - accuracy: 0.9741 - val_loss: 5.1631e-04 - val_accuracy: 0.9742\n",
      "Epoch 160/200\n",
      "977/977 [==============================] - 8s 8ms/step - loss: 5.2893e-04 - accuracy: 0.9741 - val_loss: 5.1806e-04 - val_accuracy: 0.9742\n",
      "Epoch 161/200\n",
      "977/977 [==============================] - 7s 8ms/step - loss: 5.2744e-04 - accuracy: 0.9741 - val_loss: 5.1300e-04 - val_accuracy: 0.9742\n",
      "Epoch 162/200\n",
      "977/977 [==============================] - 7s 7ms/step - loss: 5.2782e-04 - accuracy: 0.9741 - val_loss: 5.1682e-04 - val_accuracy: 0.9742\n",
      "Epoch 163/200\n",
      "977/977 [==============================] - 7s 7ms/step - loss: 5.2729e-04 - accuracy: 0.9741 - val_loss: 5.0932e-04 - val_accuracy: 0.9742\n",
      "Epoch 164/200\n",
      "977/977 [==============================] - 7s 7ms/step - loss: 5.2552e-04 - accuracy: 0.9741 - val_loss: 5.0853e-04 - val_accuracy: 0.9742\n",
      "Epoch 165/200\n",
      "977/977 [==============================] - 7s 7ms/step - loss: 5.2613e-04 - accuracy: 0.9741 - val_loss: 5.1288e-04 - val_accuracy: 0.9742\n",
      "Epoch 166/200\n",
      "977/977 [==============================] - 7s 7ms/step - loss: 5.2523e-04 - accuracy: 0.9741 - val_loss: 5.1325e-04 - val_accuracy: 0.9742\n",
      "Epoch 167/200\n",
      "977/977 [==============================] - 7s 8ms/step - loss: 5.2630e-04 - accuracy: 0.9741 - val_loss: 5.1345e-04 - val_accuracy: 0.9742\n",
      "Epoch 168/200\n",
      "977/977 [==============================] - 7s 7ms/step - loss: 5.2668e-04 - accuracy: 0.9741 - val_loss: 5.0977e-04 - val_accuracy: 0.9742\n",
      "Epoch 169/200\n",
      "977/977 [==============================] - 7s 8ms/step - loss: 5.2559e-04 - accuracy: 0.9741 - val_loss: 5.1299e-04 - val_accuracy: 0.9742\n",
      "Epoch 170/200\n",
      "977/977 [==============================] - 7s 8ms/step - loss: 5.2455e-04 - accuracy: 0.9741 - val_loss: 5.0990e-04 - val_accuracy: 0.9742\n",
      "Epoch 171/200\n",
      "977/977 [==============================] - 8s 8ms/step - loss: 5.2362e-04 - accuracy: 0.9741 - val_loss: 5.1408e-04 - val_accuracy: 0.9742\n",
      "Epoch 172/200\n",
      "977/977 [==============================] - 8s 8ms/step - loss: 5.2503e-04 - accuracy: 0.9741 - val_loss: 5.1028e-04 - val_accuracy: 0.9742\n",
      "Epoch 173/200\n",
      "977/977 [==============================] - 8s 8ms/step - loss: 5.2503e-04 - accuracy: 0.9741 - val_loss: 5.0845e-04 - val_accuracy: 0.9742\n",
      "Epoch 174/200\n",
      "977/977 [==============================] - 8s 8ms/step - loss: 5.2375e-04 - accuracy: 0.9741 - val_loss: 5.1149e-04 - val_accuracy: 0.9742\n",
      "Epoch 175/200\n",
      "977/977 [==============================] - 8s 8ms/step - loss: 5.2530e-04 - accuracy: 0.9741 - val_loss: 5.0693e-04 - val_accuracy: 0.9742\n",
      "Epoch 176/200\n",
      "977/977 [==============================] - 8s 8ms/step - loss: 5.2455e-04 - accuracy: 0.9741 - val_loss: 5.1686e-04 - val_accuracy: 0.9742\n",
      "Epoch 177/200\n",
      "977/977 [==============================] - 8s 8ms/step - loss: 5.2921e-04 - accuracy: 0.9741 - val_loss: 5.1462e-04 - val_accuracy: 0.9742\n",
      "Epoch 178/200\n",
      "977/977 [==============================] - 8s 8ms/step - loss: 5.2466e-04 - accuracy: 0.9741 - val_loss: 5.1092e-04 - val_accuracy: 0.9742\n",
      "Epoch 179/200\n",
      "977/977 [==============================] - 8s 8ms/step - loss: 5.2702e-04 - accuracy: 0.9741 - val_loss: 5.0746e-04 - val_accuracy: 0.9742\n",
      "Epoch 180/200\n",
      "977/977 [==============================] - 8s 8ms/step - loss: 5.2774e-04 - accuracy: 0.9741 - val_loss: 5.1581e-04 - val_accuracy: 0.9742\n",
      "Epoch 181/200\n",
      "977/977 [==============================] - 7s 8ms/step - loss: 5.2450e-04 - accuracy: 0.9741 - val_loss: 5.0940e-04 - val_accuracy: 0.9742\n",
      "Epoch 182/200\n",
      "977/977 [==============================] - 7s 8ms/step - loss: 5.2555e-04 - accuracy: 0.9741 - val_loss: 5.1605e-04 - val_accuracy: 0.9742\n",
      "Epoch 183/200\n",
      "977/977 [==============================] - 8s 8ms/step - loss: 5.2727e-04 - accuracy: 0.9741 - val_loss: 5.1494e-04 - val_accuracy: 0.9742\n",
      "Epoch 184/200\n",
      "977/977 [==============================] - 8s 8ms/step - loss: 5.2647e-04 - accuracy: 0.9741 - val_loss: 5.0943e-04 - val_accuracy: 0.9742\n",
      "Epoch 185/200\n",
      "977/977 [==============================] - 8s 8ms/step - loss: 5.2482e-04 - accuracy: 0.9741 - val_loss: 5.1373e-04 - val_accuracy: 0.9742\n",
      "Epoch 186/200\n",
      "977/977 [==============================] - 8s 8ms/step - loss: 5.2437e-04 - accuracy: 0.9741 - val_loss: 5.1639e-04 - val_accuracy: 0.9742\n",
      "Epoch 187/200\n",
      "977/977 [==============================] - 8s 8ms/step - loss: 5.2421e-04 - accuracy: 0.9741 - val_loss: 5.1024e-04 - val_accuracy: 0.9742\n",
      "Epoch 188/200\n",
      "977/977 [==============================] - 7s 8ms/step - loss: 5.2661e-04 - accuracy: 0.9741 - val_loss: 5.1067e-04 - val_accuracy: 0.9742\n",
      "Epoch 189/200\n",
      "977/977 [==============================] - 8s 8ms/step - loss: 5.2513e-04 - accuracy: 0.9741 - val_loss: 5.0901e-04 - val_accuracy: 0.9742\n",
      "Epoch 190/200\n",
      "977/977 [==============================] - 7s 8ms/step - loss: 5.2434e-04 - accuracy: 0.9741 - val_loss: 5.1100e-04 - val_accuracy: 0.9742\n",
      "Epoch 191/200\n",
      "977/977 [==============================] - 7s 7ms/step - loss: 5.2429e-04 - accuracy: 0.9741 - val_loss: 5.1324e-04 - val_accuracy: 0.9742\n",
      "Epoch 192/200\n",
      "977/977 [==============================] - 7s 8ms/step - loss: 5.2473e-04 - accuracy: 0.9741 - val_loss: 5.0681e-04 - val_accuracy: 0.9742\n",
      "Epoch 193/200\n",
      "977/977 [==============================] - 8s 8ms/step - loss: 5.2375e-04 - accuracy: 0.9741 - val_loss: 5.1969e-04 - val_accuracy: 0.9742\n",
      "Epoch 194/200\n",
      "977/977 [==============================] - 7s 7ms/step - loss: 5.3455e-04 - accuracy: 0.9741 - val_loss: 5.1821e-04 - val_accuracy: 0.9742\n",
      "Epoch 195/200\n",
      "977/977 [==============================] - 7s 8ms/step - loss: 5.3380e-04 - accuracy: 0.9741 - val_loss: 5.1456e-04 - val_accuracy: 0.9742\n",
      "Epoch 196/200\n",
      "977/977 [==============================] - 7s 8ms/step - loss: 5.2584e-04 - accuracy: 0.9741 - val_loss: 5.0908e-04 - val_accuracy: 0.9742\n",
      "Epoch 197/200\n",
      "977/977 [==============================] - 7s 8ms/step - loss: 5.2840e-04 - accuracy: 0.9741 - val_loss: 5.0565e-04 - val_accuracy: 0.9742\n",
      "Epoch 198/200\n",
      "977/977 [==============================] - 7s 7ms/step - loss: 5.2802e-04 - accuracy: 0.9741 - val_loss: 5.1658e-04 - val_accuracy: 0.9742\n",
      "Epoch 199/200\n",
      "977/977 [==============================] - 8s 8ms/step - loss: 5.3089e-04 - accuracy: 0.9741 - val_loss: 5.1662e-04 - val_accuracy: 0.9742\n",
      "Epoch 200/200\n",
      "977/977 [==============================] - 8s 8ms/step - loss: 5.2738e-04 - accuracy: 0.9741 - val_loss: 5.1613e-04 - val_accuracy: 0.9742\n"
     ]
    },
    {
     "data": {
      "text/plain": [
       "<tensorflow.python.keras.callbacks.History at 0x223da89f520>"
      ]
     },
     "execution_count": 84,
     "metadata": {},
     "output_type": "execute_result"
    }
   ],
   "source": [
    "model = Sequential()\n",
    "model.add(Dense(256, input_dim = x_train_norm.shape[1], activation = 'relu'))\n",
    "model.add(Dense(512, activation = 'relu'))\n",
    "model.add(Dense(256, activation = 'relu'))\n",
    "model.add(Dense(1, activation = 'sigmoid'))\n",
    "model.compile(optimizer = 'Adam', loss = 'mse', metrics=['accuracy'])\n",
    "model.fit(x_train_norm, y_train_norm, validation_data = (x_val_norm, y_val_norm), epochs = 200, batch_size =  300, verbose = 1)"
   ]
  },
  {
   "cell_type": "code",
   "execution_count": 100,
   "metadata": {},
   "outputs": [],
   "source": [
    "model = Sequential()\n",
    "model.add(Dense(256, input_dim = x_train_norm.shape[1], activation = 'relu'))\n",
    "model.add(Dense(512, activation = 'relu'))\n",
    "model.add(Dense(256, activation = 'relu'))\n",
    "model.add(Dense(1, activation = 'sigmoid'))\n",
    "model.compile(optimizer = 'Adam', loss = 'mse', metrics=['accuracy'])\n",
    "history = model.fit(x_train_norm, y_train_norm, validation_data = (x_val_norm, y_val_norm), epochs = 200, batch_size =  300, verbose = 0)"
   ]
  },
  {
   "cell_type": "markdown",
   "metadata": {},
   "source": [
    "- En apariencia la arquitectura ha mejorado radicalmente su funcionamiento\n",
    "- Debemos evaluar de manera grafica el proceso de entrenamiento"
   ]
  },
  {
   "cell_type": "markdown",
   "metadata": {},
   "source": [
    "### Evaluando el desempeño del modelo\n",
    "- Vamos a verificar que los resultados entre el set de entrenamiento y el de pruebas no difieran demasiado.\n",
    "- Si difieren demasiado sera un indicativo que el modelo tiene problemas (sobre entrenamiento) para generalizar su respuesta a nuevos datos de entrada. "
   ]
  },
  {
   "cell_type": "code",
   "execution_count": 101,
   "metadata": {},
   "outputs": [
    {
     "name": "stdout",
     "output_type": "stream",
     "text": [
      "2543/2543 [==============================] - 2s 803us/step - loss: 4.6931e-04 - accuracy: 0.9746\n",
      "Metrics loss = 0.0\n",
      "Metrics accuracy = 0.97\n"
     ]
    }
   ],
   "source": [
    "result = model.evaluate(x_test_norm, y_test_norm)\n",
    "for i in range(len(model.metrics_names)):\n",
    "    print(f'Metrics {model.metrics_names[i]} = {round(result[i],2)}')"
   ]
  },
  {
   "cell_type": "markdown",
   "metadata": {},
   "source": [
    "Las perdidas obtenidas el valor obtenido fue de aproximadamente cero y el la presición del modelo fue cercana al 97%, similar al obtenido con el set de entrenamiento. "
   ]
  },
  {
   "cell_type": "markdown",
   "metadata": {},
   "source": [
    "#### Evaluación grafica"
   ]
  },
  {
   "cell_type": "code",
   "execution_count": 105,
   "metadata": {},
   "outputs": [
    {
     "data": {
      "image/png": "[encoded data removed]",
      "text/plain": [
       "<Figure size 936x432 with 1 Axes>"
      ]
     },
     "metadata": {
      "needs_background": "light"
     },
     "output_type": "display_data"
    }
   ],
   "source": [
    "plt.figure(figsize = (13,6))\n",
    "plt.plot(history.history['loss'])\n",
    "plt.plot(history.history['val_loss'])\n",
    "plt.title('Perdidas del modelo con set de entrenamiento y pruebas por época')\n",
    "plt.ylabel('Perdidas')\n",
    "plt.xlabel('Epocas')\n",
    "plt.legend(['Entrenamiento', 'Validación'], loc='upper right')\n",
    "plt.show()"
   ]
  },
  {
   "cell_type": "markdown",
   "metadata": {},
   "source": [
    "- Podemos observar como la función de perdida fue disminuyendo en cada epoca, tanto con los volores de entrenamiento como los de test. \n",
    "- Como el gap entre las dos líneas no es pronunciado, podemos inferir que nuestro modelo está funcionando de manera adecuada"
   ]
  },
  {
   "cell_type": "code",
   "execution_count": 104,
   "metadata": {},
   "outputs": [
    {
     "data": {
      "image/png": "[encoded data removed]",
      "text/plain": [
       "<Figure size 936x432 with 1 Axes>"
      ]
     },
     "metadata": {
      "needs_background": "light"
     },
     "output_type": "display_data"
    }
   ],
   "source": [
    "plt.figure(figsize=(13,6))\n",
    "plt.plot(history.history['accuracy'])\n",
    "plt.plot(history.history['val_accuracy'])\n",
    "plt.title(\"Pérdidas del modelo con set de entrenamiento y pruebas por época\")\n",
    "plt.ylabel('Accuracy')\n",
    "plt.xlabel('Épocas')\n",
    "plt.legend(['Entrenamiento', 'Validación'], loc='upper right')\n",
    "plt.show()"
   ]
  },
  {
   "cell_type": "markdown",
   "metadata": {},
   "source": [
    "Nuevamente vemos comportamientos similares en los resultados obtenidos. \n",
    "Esta grafica muestra como el modelo ha mejorado su presición entre las diferentes epocas.  \n",
    "El proximo paso sera probar este modelo con los datos provenientes de otras casas"
   ]
  },
  {
   "cell_type": "markdown",
   "metadata": {},
   "source": [
    "## Ajuste de redes neuronales: overfitting y regularización"
   ]
  },
  {
   "cell_type": "markdown",
   "metadata": {},
   "source": [
    "**Overfitting:** El sobre entrenamiento o sobre ajuste hace referencia a que la curva se ajusta de tal manera que cada punto del data set es cruzado por la función modelo\n",
    "- Este fenomeno ocurre cuando entrenamos el modelo con información no apropiada o si exageramos la cantidad de epocas.  \n",
    "- Esto ocasiona que el modelo memorice los datos, lo cual provoca que el modelo no sepa como interpretar datos que no ha visto en la etapa de aprendizaje.\n",
    "- La grafica muestra la complejidad en el eje x y el error en el eje y. Se muestra como el error disminuye a medida que aumentamos la complejidad del entrenamiento. Pero llega un punto donde la prueba del modelo con los datos de test, deja de disminuir el error e inicia a aumentarlo. Este es un caso de sobre entrenamiento.\n",
    "- Una opción para evitar este fallo es detener el proceso de entrenamiento cuando detectamos que el gap entre el set de entrenamiento y prueba son demasiado pronunciados o amplios. \n",
    "- Matematicamente cuando existe una alta varianza y un bajo baias es un indicador de overfitting.\n",
    "- El estremo contrario es un indicador de sub entrenamiento. "
   ]
  },
  {
   "cell_type": "markdown",
   "metadata": {},
   "source": [
    "**Regularización:** La regularización es un método que nos ayuda a evitar el overfitting. Lo hace penalizando o minimizando la complejidad de la red neuronal. Esta penalización consiste en identificar la variables que no aportan o aportan poco a la identificación de la variable obetivo. Existen diferentes métodos de regularización:\n",
    "\n",
    "- Regularización Lasso ó L1: Penaliza la suma de los valores absolutos de los pesos. Genera un modelo mas simple e interpretable. Es robusto a los outliers. \n",
    "\n",
    "- Regularización Ridge ó L2: Penaliza la suma de cuadrados de los valores de los pesos. El parametro lambda suele ser pequeño. Útil para aprender patrones complejos de los datos. No es robustoa outliers. Permite encontrar correlaciones entre datos de multiples variables. Por esto da valores altos a los pesos. \n",
    "\n",
    "- Regularización ElasticNet: Combina ambos beneficios de regularización Lx: L1: eliminar pesos no significativos L2: eliminar pesos correlacionados. Es muy util cuando tenemos multiples variables que se correlacionan entre si y otros que no son muy utiles entre sí. Requiere de dos parametros lambda correspondientes a las dos regularizaciones que lo conforman.\n",
    "\n",
    "- Regulación dropout: Consiste en apagar de manera aleatoria un porcentaje de neuronas en cada capa. Esto ayuda a aumentar el tiempo de entrenamiento, al disminuir el número de neuronas en el modelo. Pero su aporte más importante, consiste en que las neuronas subsiguientes no dependeran absolutamente de los resultados de las neuronas que lo preceden. Disminuyendo el overfitting. En Keras se instancia despues de crear una capa indicando en sus parametros el % de neuronas a apagar. \n",
    "\n",
    "- BatchNorm: Este se considera una inovación clave en el deep learning moderno (2016). Similar a la normalización de los inputs, pero en capas intermedias. Consiste en tomar un batch de datos calcular su media y varianza, actualizar los datos restandolos por su media y dividiendo por su varianza a esto sumarle la constante epsilon, para luego aplicarle una transformación. Más información en este link:\n",
    "https://towardsdatascience.com/batch-normalization-and-dropout-in-neural-networks-explained-with-pytorch-47d7a8459bcd\n",
    "\n",
    "- Data Augmentation: Esta técnica es simple pero elgante y se aplica bastante en imagenes, consiste en rotar la imagen o hacerle un zoom e incluir esta matriz en el algoritmo, ya sea el de una red generativa o convolucional. Es la misma imagen pero su matriz de datos no es la misma."
   ]
  },
  {
   "cell_type": "code",
   "execution_count": 107,
   "metadata": {},
   "outputs": [
    {
     "data": {
      "text/plain": [
       "'\\n#Ejemplo de regularización usando Keras\\n\\nfrom keras import regularizers, Sequential\\nmodel = Sequential()\\n#Usando una regularización L1\\nmodel.add(Dense(24, input_dim = Numero_Variables,\\n                kernel_regularizaers = regularizaers.l1(0.01) #El parametro es el valor de lambda \\n))\\n\\n#Usando una regularización L2\\nmodel.add(Dense(24, input_dim = Numero_Variables,\\n                kernel_regularizaers = regularizaers.l2(0.01) #El parametro es el valor de lambda \\n))\\n\\n#Usando una regularización elastic net lx\\nmodel.add(Dense(24, input_dim = Numero_Variables,\\n                kernel_regularizaers = regularizaers.l1_l2(l1=0.01, l2 = 0.01) #El parametro es el valor de lambda \\n))\\n\\n'"
      ]
     },
     "execution_count": 107,
     "metadata": {},
     "output_type": "execute_result"
    }
   ],
   "source": [
    "'''\n",
    "#Ejemplo de regularización usando Keras\n",
    "\n",
    "from keras import regularizers, Sequential\n",
    "model = Sequential()\n",
    "#Usando una regularización L1\n",
    "model.add(Dense(24, input_dim = Numero_Variables,\n",
    "                kernel_regularizaers = regularizaers.l1(0.01) #El parametro es el valor de lambda \n",
    "))\n",
    "\n",
    "#Usando una regularización L2\n",
    "model.add(Dense(24, input_dim = Numero_Variables,\n",
    "                kernel_regularizaers = regularizaers.l2(0.01) #El parametro es el valor de lambda \n",
    "))\n",
    "\n",
    "#Usando una regularización elastic net lx\n",
    "model.add(Dense(24, input_dim = Numero_Variables,\n",
    "                kernel_regularizaers = regularizaers.l1_l2(l1=0.01, l2 = 0.01) #El parametro es el valor de lambda \n",
    "))\n",
    "\n",
    "#Usando regularización dropout, requiere el porcentaje de neuronas a apagar\n",
    "model.add(Dropout(0.2))\n",
    "'''"
   ]
  },
  {
   "cell_type": "markdown",
   "metadata": {},
   "source": [
    "# Ajuste de redes neuronales: Hiper parámetros\n",
    "\n",
    "Los parametros nos ayudan a ajustar los pesos sinapticos entre las neuronas. Es decir los pesos sinapticos que hacen la multiplicación entre las entradas y las funciones de activación para obtener la salida entre las capas.  \n",
    "Adicionalmente existen los hiperparametros, que se refieren a las caracteristicas de configuración para ajustar el modelo de red neuronal, no existe un metodo que indique cuales son los valores adecuados para encontrar estos datos de ajuste. Sin embargo, si hay una serie de pasos logicos que ayudan a encontrar aproximaciones con buenos resultados. "
   ]
  },
  {
   "cell_type": "markdown",
   "metadata": {},
   "source": [
    "### Numero de capas y neuronas por capa:\n",
    "\n",
    "**Numero de capas:** Al aumentar el numero de capas se aumenta el tiempo de entrenamiento y la complejidad del modelo. Pero a su vez, el modelo es capaz de aprender comportamientos muy complejos. La recomendación es iniciar con una pequeña arquitectura e ir aumentando poco a poco hasta encontrar una cantidad adecuada de capas. \n",
    "\n",
    "**Número de neuronas:** Este valor acompaña directamente el número de capas del modelo. Por convensión se inicia la primera capa como:  \n",
    "Número de neuronas = Potencia de dos mas cercana a 2 * (número de neuronas).  \n",
    "\n",
    "Por ejemplo: Variables = 30 entradas -> 30 * 2 = 60, la potencia mas cercana a 60 es 2^6 = 64  \n",
    "\n",
    "Es aconsejable iniciar la primera capa con 64 neuronas. Las siguientes capas, generalmente tienen menos neuronas respecto a la primera, esta disminución debe hacerse tambien en potencias de dos. Por ejemplo 2^5 = 32 neuronas-"
   ]
  },
  {
   "cell_type": "markdown",
   "metadata": {},
   "source": [
    "### Épocas e inicializadores \n",
    "\n",
    "**Epocas:** A medida que se va entrenando el modelo (mas epocas), la función de error va disminuyendo. Pero llega un punto donde la función de error para el set de entrenamiento sigue disminuyendo pero para el set de prueba aumenta. En este punto las dos graficas divergen y podemos usar este punto como metodo de regularización. A este punto se le denomina early termination y servira para ajustar este modelo hasta esta cantidad de epocas. \n",
    "\n",
    "**Inicializadores:** La inicialización glorot es ampliamente usada y generalmente acertada para inicializar los pesos de nuestra red neuronal. \n",
    "\n",
    "**Taza de aprendizaje o learning rate:** El optimizador de adam tiene un valor por defecto para inicializar\n",
    "\n",
    "**Batch o lote de datos:** Sirve para entregar un lote de datos por partes, este tamaño se recomienda pasarlo en función de una potencia de dos. Si aumentamos el tamaño de batch el entrenamiento sera mas preciso pero más lento de entrenar. Si el batch es pequeño, el modelo entrenara mas rapido pero pierde presición."
   ]
  },
  {
   "cell_type": "markdown",
   "metadata": {},
   "source": [
    "## Funciones de activación y perdida:\n",
    "\n",
    "Elegir una de ellas esta ligado a si tenemos una regresión o una clasificación. La siguiente tabla resume las recomendaciones para elegir la función de perdida y la función de activación de la ultima capa según el tipo de salida que tenemos como resultado de nuestro modelo. Para las capas ocultas es recomendable usar relu y comunmente MSE \n",
    "\n",
    "| Tipo de problema| Tipo de salida                         | Función de activación final | Función de perdidas    |\n",
    "| :-------------: | :------------------------------------: | :-------------------------: | :--------------------: |\n",
    "| Regresión       | Valor numerico                         | Linear                      | Mean Square Error      |\n",
    "| Clasificación   | Salida Binaria                         | Sigmoid                     | Binary cross entropy   |\n",
    "| Clasificación   | Unica etiqueta, multiples clases       | Softmax                     | Cross entropy          |\n",
    "| Clasificación   | Multiples etiquetas, multiples clases  | Sigmoid                     | Binary cross entropy   |"
   ]
  },
  {
   "cell_type": "markdown",
   "metadata": {},
   "source": [
    "## Librerias de ajuste y optimización de hiperparametros en Keras\n",
    "\n",
    "- Hiperopt -> Libreria popular de Python enfocada en optimizar todo tipo de espacios de busqueda, incluyendo espacios reales como las tasa de aprendizaje, o valores discretos como el número de capas. \n",
    "- Hyperast, kopt o talos -> Librerias de optimización de modelos implementados en keras\n",
    "- Scikit optimize (Skopt) -> Hace una busqueda de hiperparametros en modalidad de grilla. Evalundo diferentes combinacioenes hasta optener un punto optimo. "
   ]
  },
  {
   "cell_type": "markdown",
   "metadata": {},
   "source": [
    "En cuanto a keras existen algo conocido como callbacks que son procesos que se aplican dentro del entrenamiento y mejoran estos hiperparametros, en el orden del video que conozca existen:\n",
    "\n",
    "**EarlyStopping**\n",
    "Este detiene el entrenamiento al no ver mejora en una metrica como la perdidad, error, loss, val_loss, entre otras, cuenta con un parametro paciencia que permite ajustar a las epocas de no ver mejoria en el entrenamiento parara.\n",
    "\n",
    "**ModelCheckpoint**\n",
    "Este callback guarda los pesos y estructura del modelo entrenado por cada epoca, tambien se puede configurar para que guarde solo si el modelo ha mejorado en la epoca actual.\n",
    "\n",
    "**ReduceLROnPlateau**\n",
    "Tiene la funcion de monitorear una metrica de mejora configurada por el usuario y cuando no vea mejora reduce la taza de aprendizaje(Learning Rate) lo que le permite frenar el paso cada vez mas y encontrar el minimo local o global.\n",
    "\n",
    "**Tensorboard**\n",
    "Es un dashboard con toda la informacion y metricas pertinentes configurada en uno o varios modelos, es un tablero superdinamico que permite comparar modelos y configuraciones."
   ]
  },
  {
   "cell_type": "markdown",
   "metadata": {},
   "source": [
    "# La normalización ha fracasado investigar como se normaliza de manera correcta una señal"
   ]
  },
  {
   "cell_type": "code",
   "execution_count": null,
   "metadata": {},
   "outputs": [],
   "source": [
    "from keras.models import Sequential from keras.layers import Dense, Activation model = Sequential() model.add(Dense(102, input_dim=102, kernel_initializer='normal',activation='relu')) model.add(Dense(30, kernel_initializer='normal',activation='relu')) model.add(Dense(10, kernel_initializer='normal',activation='relu')) model.add(Dense(3, kernel_initializer='normal')) model.compile(loss='mean_squared_error', optimizer='adam',metrics=['mean_absolute_percentage_error'])"
   ]
  }
 ],
 "metadata": {
  "kernelspec": {
   "display_name": "Python 3",
   "language": "python",
   "name": "python3"
  },
  "language_info": {
   "codemirror_mode": {
    "name": "ipython",
    "version": 3
   },
   "file_extension": ".py",
   "mimetype": "text/x-python",
   "name": "python",
   "nbconvert_exporter": "python",
   "pygments_lexer": "ipython3",
   "version": "3.8.3"
  }
 },
 "nbformat": 4,
 "nbformat_minor": 4
}
